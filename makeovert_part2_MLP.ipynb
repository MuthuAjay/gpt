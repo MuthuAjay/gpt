{
 "cells": [
  {
   "cell_type": "code",
   "execution_count": 59,
   "id": "96b03f3e",
   "metadata": {},
   "outputs": [],
   "source": [
    "import torch\n",
    "import torch.nn.functional as F\n",
    "import requests\n",
    "r = requests.get(r'https://raw.githubusercontent.com/karpathy/makemore/master/names.txt')\n",
    "\n",
    "with open('names.txt', 'wb') as f:\n",
    "    f.write(r.content)\n",
    "\n",
    "words = open('names.txt', 'r').read().splitlines()"
   ]
  },
  {
   "cell_type": "code",
   "execution_count": 60,
   "id": "724c26af",
   "metadata": {},
   "outputs": [
    {
     "data": {
      "text/plain": [
       "32033"
      ]
     },
     "execution_count": 60,
     "metadata": {},
     "output_type": "execute_result"
    }
   ],
   "source": [
    "len(words)"
   ]
  },
  {
   "cell_type": "code",
   "execution_count": 61,
   "id": "13886b03",
   "metadata": {},
   "outputs": [
    {
     "data": {
      "text/plain": [
       "({1: 'a',\n",
       "  2: 'b',\n",
       "  3: 'c',\n",
       "  4: 'd',\n",
       "  5: 'e',\n",
       "  6: 'f',\n",
       "  7: 'g',\n",
       "  8: 'h',\n",
       "  9: 'i',\n",
       "  10: 'j',\n",
       "  11: 'k',\n",
       "  12: 'l',\n",
       "  13: 'm',\n",
       "  14: 'n',\n",
       "  15: 'o',\n",
       "  16: 'p',\n",
       "  17: 'q',\n",
       "  18: 'r',\n",
       "  19: 's',\n",
       "  20: 't',\n",
       "  21: 'u',\n",
       "  22: 'v',\n",
       "  23: 'w',\n",
       "  24: 'x',\n",
       "  25: 'y',\n",
       "  26: 'z',\n",
       "  0: '.'},\n",
       " {'a': 1,\n",
       "  'b': 2,\n",
       "  'c': 3,\n",
       "  'd': 4,\n",
       "  'e': 5,\n",
       "  'f': 6,\n",
       "  'g': 7,\n",
       "  'h': 8,\n",
       "  'i': 9,\n",
       "  'j': 10,\n",
       "  'k': 11,\n",
       "  'l': 12,\n",
       "  'm': 13,\n",
       "  'n': 14,\n",
       "  'o': 15,\n",
       "  'p': 16,\n",
       "  'q': 17,\n",
       "  'r': 18,\n",
       "  's': 19,\n",
       "  't': 20,\n",
       "  'u': 21,\n",
       "  'v': 22,\n",
       "  'w': 23,\n",
       "  'x': 24,\n",
       "  'y': 25,\n",
       "  'z': 26,\n",
       "  '.': 0})"
      ]
     },
     "execution_count": 61,
     "metadata": {},
     "output_type": "execute_result"
    }
   ],
   "source": [
    "chars = sorted(list(set(''.join(words))))\n",
    "stoi = {s:i+1 for i,s in enumerate(chars)}\n",
    "stoi['.'] = 0\n",
    "itos = {i:s for s, i in stoi.items()}\n",
    "itos, stoi"
   ]
  },
  {
   "cell_type": "code",
   "execution_count": 62,
   "id": "1b7298be",
   "metadata": {},
   "outputs": [
    {
     "name": "stdout",
     "output_type": "stream",
     "text": [
      "emma\n",
      "... ----> e\n",
      "..e ----> m\n",
      ".em ----> m\n",
      "emm ----> a\n",
      "mma ----> .\n",
      "olivia\n",
      "... ----> o\n",
      "..o ----> l\n",
      ".ol ----> i\n",
      "oli ----> v\n",
      "liv ----> i\n",
      "ivi ----> a\n",
      "via ----> .\n",
      "ava\n",
      "... ----> a\n",
      "..a ----> v\n",
      ".av ----> a\n",
      "ava ----> .\n",
      "isabella\n",
      "... ----> i\n",
      "..i ----> s\n",
      ".is ----> a\n",
      "isa ----> b\n",
      "sab ----> e\n",
      "abe ----> l\n",
      "bel ----> l\n",
      "ell ----> a\n",
      "lla ----> .\n",
      "sophia\n",
      "... ----> s\n",
      "..s ----> o\n",
      ".so ----> p\n",
      "sop ----> h\n",
      "oph ----> i\n",
      "phi ----> a\n",
      "hia ----> .\n"
     ]
    }
   ],
   "source": [
    "# build the dataset\n",
    "block_size = 3 # context length : ho0w many characters do we need to predict the next character\n",
    "X, Y = [], []\n",
    "\n",
    "for w in words[:5]:\n",
    "    print(w)\n",
    "    context = [0] * block_size\n",
    "    \n",
    "    for ch in w +'.':\n",
    "        ix = stoi[ch]\n",
    "        X.append(context)\n",
    "        Y.append(ix)\n",
    "        \n",
    "        print(''.join(itos[i] for i in context), '---->', itos[ix])\n",
    "        context = context[1:] + [ix] #crop and append\n",
    "X = torch.tensor(X)\n",
    "Y = torch.tensor(Y)"
   ]
  },
  {
   "cell_type": "code",
   "execution_count": 63,
   "id": "006da336",
   "metadata": {},
   "outputs": [
    {
     "data": {
      "text/plain": [
       "(tensor([[ 0,  0,  0],\n",
       "         [ 0,  0,  5],\n",
       "         [ 0,  5, 13],\n",
       "         [ 5, 13, 13],\n",
       "         [13, 13,  1],\n",
       "         [ 0,  0,  0],\n",
       "         [ 0,  0, 15],\n",
       "         [ 0, 15, 12],\n",
       "         [15, 12,  9],\n",
       "         [12,  9, 22],\n",
       "         [ 9, 22,  9],\n",
       "         [22,  9,  1],\n",
       "         [ 0,  0,  0],\n",
       "         [ 0,  0,  1],\n",
       "         [ 0,  1, 22],\n",
       "         [ 1, 22,  1],\n",
       "         [ 0,  0,  0],\n",
       "         [ 0,  0,  9],\n",
       "         [ 0,  9, 19],\n",
       "         [ 9, 19,  1],\n",
       "         [19,  1,  2],\n",
       "         [ 1,  2,  5],\n",
       "         [ 2,  5, 12],\n",
       "         [ 5, 12, 12],\n",
       "         [12, 12,  1],\n",
       "         [ 0,  0,  0],\n",
       "         [ 0,  0, 19],\n",
       "         [ 0, 19, 15],\n",
       "         [19, 15, 16],\n",
       "         [15, 16,  8],\n",
       "         [16,  8,  9],\n",
       "         [ 8,  9,  1]]),\n",
       " tensor([ 5, 13, 13,  1,  0, 15, 12,  9, 22,  9,  1,  0,  1, 22,  1,  0,  9, 19,\n",
       "          1,  2,  5, 12, 12,  1,  0, 19, 15, 16,  8,  9,  1,  0]))"
      ]
     },
     "execution_count": 63,
     "metadata": {},
     "output_type": "execute_result"
    }
   ],
   "source": [
    "X ,Y"
   ]
  },
  {
   "cell_type": "code",
   "execution_count": 6,
   "id": "73238b37",
   "metadata": {},
   "outputs": [
    {
     "data": {
      "text/plain": [
       "tensor([[1, 0, 0, 0, 0, 0, 0, 0, 0, 0, 0, 0, 0, 0, 0, 0, 0, 0, 0, 0, 0, 0, 0, 0,\n",
       "         0, 0, 0],\n",
       "        [1, 0, 0, 0, 0, 0, 0, 0, 0, 0, 0, 0, 0, 0, 0, 0, 0, 0, 0, 0, 0, 0, 0, 0,\n",
       "         0, 0, 0],\n",
       "        [0, 0, 0, 0, 0, 1, 0, 0, 0, 0, 0, 0, 0, 0, 0, 0, 0, 0, 0, 0, 0, 0, 0, 0,\n",
       "         0, 0, 0]])"
      ]
     },
     "execution_count": 6,
     "metadata": {},
     "output_type": "execute_result"
    }
   ],
   "source": [
    "F.one_hot(X, num_classes = 27)[1]"
   ]
  },
  {
   "cell_type": "code",
   "execution_count": 7,
   "id": "b6a3344c",
   "metadata": {},
   "outputs": [
    {
     "data": {
      "text/plain": [
       "(torch.Size([32, 3]), torch.int64, torch.Size([32]), torch.int64)"
      ]
     },
     "execution_count": 7,
     "metadata": {},
     "output_type": "execute_result"
    }
   ],
   "source": [
    "X.shape, X.dtype , Y.shape, Y.dtype"
   ]
  },
  {
   "cell_type": "code",
   "execution_count": 8,
   "id": "648b5e96",
   "metadata": {},
   "outputs": [
    {
     "data": {
      "text/plain": [
       "tensor([[ 0.9140,  3.0003],\n",
       "        [ 0.3579,  0.4726],\n",
       "        [ 2.1061,  0.7410],\n",
       "        [ 0.2543, -0.8822],\n",
       "        [ 0.1145, -0.5642],\n",
       "        [ 1.5342, -0.7011],\n",
       "        [-0.5336,  0.8885],\n",
       "        [ 0.6839,  0.0521],\n",
       "        [ 0.1699,  0.8506],\n",
       "        [-0.0217,  0.1630],\n",
       "        [ 0.1877,  0.1430],\n",
       "        [ 2.6807, -1.1087],\n",
       "        [ 0.3013, -0.0593],\n",
       "        [ 0.0801,  1.1582],\n",
       "        [ 0.2726,  1.1239],\n",
       "        [-1.6469,  2.3162],\n",
       "        [ 0.0212, -1.3451],\n",
       "        [-0.8573,  0.9109],\n",
       "        [-0.0372,  1.5612],\n",
       "        [ 1.7761,  1.0509],\n",
       "        [-0.2417,  0.3661],\n",
       "        [-0.5722, -0.8949],\n",
       "        [-0.4513, -1.3937],\n",
       "        [-0.2584,  0.5907],\n",
       "        [ 1.1662, -0.2259],\n",
       "        [-2.7184,  1.6384],\n",
       "        [ 0.0495,  0.2518]])"
      ]
     },
     "execution_count": 8,
     "metadata": {},
     "output_type": "execute_result"
    }
   ],
   "source": [
    "C = torch.randn((27,2))\n",
    "C"
   ]
  },
  {
   "cell_type": "code",
   "execution_count": 9,
   "id": "40de3b5d",
   "metadata": {},
   "outputs": [
    {
     "data": {
      "text/plain": [
       "(torch.Size([27, 2]), torch.Size([32, 3]))"
      ]
     },
     "execution_count": 9,
     "metadata": {},
     "output_type": "execute_result"
    }
   ],
   "source": [
    "C.shape, X.shape"
   ]
  },
  {
   "cell_type": "code",
   "execution_count": 10,
   "id": "81f80f79",
   "metadata": {},
   "outputs": [
    {
     "data": {
      "text/plain": [
       "tensor([0.9140, 3.0003])"
      ]
     },
     "execution_count": 10,
     "metadata": {},
     "output_type": "execute_result"
    }
   ],
   "source": [
    "C[0]"
   ]
  },
  {
   "cell_type": "code",
   "execution_count": 11,
   "id": "e36095b9",
   "metadata": {},
   "outputs": [
    {
     "data": {
      "text/plain": [
       "tensor([[[ 0.9140,  3.0003],\n",
       "         [ 0.9140,  3.0003],\n",
       "         [ 0.9140,  3.0003]],\n",
       "\n",
       "        [[ 0.9140,  3.0003],\n",
       "         [ 0.9140,  3.0003],\n",
       "         [ 1.5342, -0.7011]],\n",
       "\n",
       "        [[ 0.9140,  3.0003],\n",
       "         [ 1.5342, -0.7011],\n",
       "         [ 0.0801,  1.1582]],\n",
       "\n",
       "        [[ 1.5342, -0.7011],\n",
       "         [ 0.0801,  1.1582],\n",
       "         [ 0.0801,  1.1582]],\n",
       "\n",
       "        [[ 0.0801,  1.1582],\n",
       "         [ 0.0801,  1.1582],\n",
       "         [ 0.3579,  0.4726]],\n",
       "\n",
       "        [[ 0.9140,  3.0003],\n",
       "         [ 0.9140,  3.0003],\n",
       "         [ 0.9140,  3.0003]],\n",
       "\n",
       "        [[ 0.9140,  3.0003],\n",
       "         [ 0.9140,  3.0003],\n",
       "         [-1.6469,  2.3162]],\n",
       "\n",
       "        [[ 0.9140,  3.0003],\n",
       "         [-1.6469,  2.3162],\n",
       "         [ 0.3013, -0.0593]],\n",
       "\n",
       "        [[-1.6469,  2.3162],\n",
       "         [ 0.3013, -0.0593],\n",
       "         [-0.0217,  0.1630]],\n",
       "\n",
       "        [[ 0.3013, -0.0593],\n",
       "         [-0.0217,  0.1630],\n",
       "         [-0.4513, -1.3937]],\n",
       "\n",
       "        [[-0.0217,  0.1630],\n",
       "         [-0.4513, -1.3937],\n",
       "         [-0.0217,  0.1630]],\n",
       "\n",
       "        [[-0.4513, -1.3937],\n",
       "         [-0.0217,  0.1630],\n",
       "         [ 0.3579,  0.4726]],\n",
       "\n",
       "        [[ 0.9140,  3.0003],\n",
       "         [ 0.9140,  3.0003],\n",
       "         [ 0.9140,  3.0003]],\n",
       "\n",
       "        [[ 0.9140,  3.0003],\n",
       "         [ 0.9140,  3.0003],\n",
       "         [ 0.3579,  0.4726]],\n",
       "\n",
       "        [[ 0.9140,  3.0003],\n",
       "         [ 0.3579,  0.4726],\n",
       "         [-0.4513, -1.3937]],\n",
       "\n",
       "        [[ 0.3579,  0.4726],\n",
       "         [-0.4513, -1.3937],\n",
       "         [ 0.3579,  0.4726]],\n",
       "\n",
       "        [[ 0.9140,  3.0003],\n",
       "         [ 0.9140,  3.0003],\n",
       "         [ 0.9140,  3.0003]],\n",
       "\n",
       "        [[ 0.9140,  3.0003],\n",
       "         [ 0.9140,  3.0003],\n",
       "         [-0.0217,  0.1630]],\n",
       "\n",
       "        [[ 0.9140,  3.0003],\n",
       "         [-0.0217,  0.1630],\n",
       "         [ 1.7761,  1.0509]],\n",
       "\n",
       "        [[-0.0217,  0.1630],\n",
       "         [ 1.7761,  1.0509],\n",
       "         [ 0.3579,  0.4726]],\n",
       "\n",
       "        [[ 1.7761,  1.0509],\n",
       "         [ 0.3579,  0.4726],\n",
       "         [ 2.1061,  0.7410]],\n",
       "\n",
       "        [[ 0.3579,  0.4726],\n",
       "         [ 2.1061,  0.7410],\n",
       "         [ 1.5342, -0.7011]],\n",
       "\n",
       "        [[ 2.1061,  0.7410],\n",
       "         [ 1.5342, -0.7011],\n",
       "         [ 0.3013, -0.0593]],\n",
       "\n",
       "        [[ 1.5342, -0.7011],\n",
       "         [ 0.3013, -0.0593],\n",
       "         [ 0.3013, -0.0593]],\n",
       "\n",
       "        [[ 0.3013, -0.0593],\n",
       "         [ 0.3013, -0.0593],\n",
       "         [ 0.3579,  0.4726]],\n",
       "\n",
       "        [[ 0.9140,  3.0003],\n",
       "         [ 0.9140,  3.0003],\n",
       "         [ 0.9140,  3.0003]],\n",
       "\n",
       "        [[ 0.9140,  3.0003],\n",
       "         [ 0.9140,  3.0003],\n",
       "         [ 1.7761,  1.0509]],\n",
       "\n",
       "        [[ 0.9140,  3.0003],\n",
       "         [ 1.7761,  1.0509],\n",
       "         [-1.6469,  2.3162]],\n",
       "\n",
       "        [[ 1.7761,  1.0509],\n",
       "         [-1.6469,  2.3162],\n",
       "         [ 0.0212, -1.3451]],\n",
       "\n",
       "        [[-1.6469,  2.3162],\n",
       "         [ 0.0212, -1.3451],\n",
       "         [ 0.1699,  0.8506]],\n",
       "\n",
       "        [[ 0.0212, -1.3451],\n",
       "         [ 0.1699,  0.8506],\n",
       "         [-0.0217,  0.1630]],\n",
       "\n",
       "        [[ 0.1699,  0.8506],\n",
       "         [-0.0217,  0.1630],\n",
       "         [ 0.3579,  0.4726]]])"
      ]
     },
     "execution_count": 11,
     "metadata": {},
     "output_type": "execute_result"
    }
   ],
   "source": [
    "C[X]"
   ]
  },
  {
   "cell_type": "code",
   "execution_count": 12,
   "id": "c752ac3a",
   "metadata": {},
   "outputs": [
    {
     "data": {
      "text/plain": [
       "torch.Size([32, 3, 2])"
      ]
     },
     "execution_count": 12,
     "metadata": {},
     "output_type": "execute_result"
    }
   ],
   "source": [
    "C[X].shape"
   ]
  },
  {
   "cell_type": "code",
   "execution_count": 13,
   "id": "ca2127d9",
   "metadata": {},
   "outputs": [
    {
     "data": {
      "text/plain": [
       "tensor([0.1877, 0.1430])"
      ]
     },
     "execution_count": 13,
     "metadata": {},
     "output_type": "execute_result"
    }
   ],
   "source": [
    "C[torch.tensor(10)]"
   ]
  },
  {
   "cell_type": "code",
   "execution_count": 14,
   "id": "4eca9b9d",
   "metadata": {},
   "outputs": [
    {
     "data": {
      "text/plain": [
       "tensor([0.1877, 0.1430])"
      ]
     },
     "execution_count": 14,
     "metadata": {},
     "output_type": "execute_result"
    }
   ],
   "source": [
    "C[10]"
   ]
  },
  {
   "cell_type": "code",
   "execution_count": 15,
   "id": "a1e4590f",
   "metadata": {},
   "outputs": [
    {
     "ename": "IndexError",
     "evalue": "index 27 is out of bounds for dimension 0 with size 27",
     "output_type": "error",
     "traceback": [
      "\u001b[1;31m---------------------------------------------------------------------------\u001b[0m",
      "\u001b[1;31mIndexError\u001b[0m                                Traceback (most recent call last)",
      "Cell \u001b[1;32mIn[15], line 1\u001b[0m\n\u001b[1;32m----> 1\u001b[0m C[torch\u001b[38;5;241m.\u001b[39marange(\u001b[38;5;241m28\u001b[39m)]\n",
      "\u001b[1;31mIndexError\u001b[0m: index 27 is out of bounds for dimension 0 with size 27"
     ]
    }
   ],
   "source": [
    " C[torch.arange(28)]"
   ]
  },
  {
   "cell_type": "code",
   "execution_count": 16,
   "id": "9a72d3cf",
   "metadata": {},
   "outputs": [
    {
     "data": {
      "text/plain": [
       "tensor([[ 0.9140,  3.0003],\n",
       "        [ 0.3579,  0.4726],\n",
       "        [ 2.1061,  0.7410],\n",
       "        [ 0.2543, -0.8822],\n",
       "        [ 0.1145, -0.5642],\n",
       "        [ 1.5342, -0.7011],\n",
       "        [-0.5336,  0.8885],\n",
       "        [ 0.6839,  0.0521],\n",
       "        [ 0.1699,  0.8506],\n",
       "        [-0.0217,  0.1630]])"
      ]
     },
     "execution_count": 16,
     "metadata": {},
     "output_type": "execute_result"
    }
   ],
   "source": [
    "C[torch.arange(10)]"
   ]
  },
  {
   "cell_type": "code",
   "execution_count": 17,
   "id": "eb7cb6b6",
   "metadata": {},
   "outputs": [
    {
     "data": {
      "text/plain": [
       "(tensor([[[-0.2417,  0.3661],\n",
       "          [-0.8573,  0.9109],\n",
       "          [ 0.3579,  0.4726]],\n",
       " \n",
       "         [[ 0.1699,  0.8506],\n",
       "          [ 0.0495,  0.2518],\n",
       "          [ 0.1145, -0.5642]]]),\n",
       " torch.Size([2, 3, 2]))"
      ]
     },
     "execution_count": 17,
     "metadata": {},
     "output_type": "execute_result"
    }
   ],
   "source": [
    "C[torch.randint(0,27, (2,3))], C[torch.randint(0,27, (2,3))].shape"
   ]
  },
  {
   "cell_type": "code",
   "execution_count": 18,
   "id": "987056d6",
   "metadata": {
    "scrolled": true
   },
   "outputs": [
    {
     "data": {
      "text/plain": [
       "tensor([[17, 23,  4],\n",
       "        [21,  3, 26]])"
      ]
     },
     "execution_count": 18,
     "metadata": {},
     "output_type": "execute_result"
    }
   ],
   "source": [
    "torch.randint(0,27, (2,3))"
   ]
  },
  {
   "cell_type": "code",
   "execution_count": 19,
   "id": "cd84ac03",
   "metadata": {},
   "outputs": [
    {
     "data": {
      "text/plain": [
       "tensor(1)"
      ]
     },
     "execution_count": 19,
     "metadata": {},
     "output_type": "execute_result"
    }
   ],
   "source": [
    "X[13,2]"
   ]
  },
  {
   "cell_type": "code",
   "execution_count": 20,
   "id": "1ffe45bf",
   "metadata": {
    "scrolled": true
   },
   "outputs": [
    {
     "data": {
      "text/plain": [
       "tensor([0.3579, 0.4726])"
      ]
     },
     "execution_count": 20,
     "metadata": {},
     "output_type": "execute_result"
    }
   ],
   "source": [
    "C[X][13,2]"
   ]
  },
  {
   "cell_type": "code",
   "execution_count": 21,
   "id": "144ded1b",
   "metadata": {},
   "outputs": [
    {
     "data": {
      "text/plain": [
       "tensor([0.3579, 0.4726])"
      ]
     },
     "execution_count": 21,
     "metadata": {},
     "output_type": "execute_result"
    }
   ],
   "source": [
    "C[1]"
   ]
  },
  {
   "cell_type": "markdown",
   "id": "2fed2f03",
   "metadata": {},
   "source": [
    "# # EMbeddings"
   ]
  },
  {
   "cell_type": "code",
   "execution_count": 22,
   "id": "fce8b45b",
   "metadata": {},
   "outputs": [
    {
     "data": {
      "text/plain": [
       "torch.Size([32, 3, 2])"
      ]
     },
     "execution_count": 22,
     "metadata": {},
     "output_type": "execute_result"
    }
   ],
   "source": [
    "emb = C[X]\n",
    "emb.shape"
   ]
  },
  {
   "cell_type": "code",
   "execution_count": 23,
   "id": "f20cf0db",
   "metadata": {},
   "outputs": [],
   "source": [
    "W1  = torch.rand(6,100) #these are the weights of the neurons 6 is the input size 3 -> num of words and 2 num of dims\n",
    "b1 = torch.rand(100)"
   ]
  },
  {
   "cell_type": "code",
   "execution_count": 24,
   "id": "331947b8",
   "metadata": {},
   "outputs": [
    {
     "data": {
      "text/plain": [
       "torch.Size([32, 6])"
      ]
     },
     "execution_count": 24,
     "metadata": {},
     "output_type": "execute_result"
    }
   ],
   "source": [
    "emb.view(-1, 6).shape"
   ]
  },
  {
   "cell_type": "code",
   "execution_count": 25,
   "id": "6d76682d",
   "metadata": {},
   "outputs": [
    {
     "data": {
      "text/plain": [
       "tensor([[ 1.0000,  0.9966,  1.0000,  ...,  1.0000,  1.0000,  1.0000],\n",
       "        [ 0.9659,  0.9952,  1.0000,  ...,  1.0000,  1.0000,  0.9999],\n",
       "        [ 0.9979,  0.5991,  0.9993,  ...,  0.9998,  1.0000,  0.9996],\n",
       "        ...,\n",
       "        [ 0.0275, -0.7107, -0.3122,  ...,  0.1002,  0.9505,  0.9208],\n",
       "        [ 0.7672,  0.4046,  0.2961,  ..., -0.1645,  0.2054, -0.6337],\n",
       "        [ 0.9025,  0.4004,  0.9253,  ...,  0.9285,  0.9814,  0.9149]])"
      ]
     },
     "execution_count": 25,
     "metadata": {},
     "output_type": "execute_result"
    }
   ],
   "source": [
    "# we have to change the dim of the embeddings with respect to the dimensions of the weigts for mat mul\n",
    "h = torch.tanh(emb.view(-1, 6) @ W1 + b1 )  # here -1 represents 32 which is the batch dimension  and -1 will automatically infer the current dimension of its position\n",
    "h"
   ]
  },
  {
   "cell_type": "code",
   "execution_count": 26,
   "id": "cae99438",
   "metadata": {},
   "outputs": [
    {
     "data": {
      "text/plain": [
       "torch.Size([32, 100])"
      ]
     },
     "execution_count": 26,
     "metadata": {},
     "output_type": "execute_result"
    }
   ],
   "source": [
    "h.shape"
   ]
  },
  {
   "cell_type": "code",
   "execution_count": 27,
   "id": "98ef0b3b",
   "metadata": {},
   "outputs": [],
   "source": [
    "W2 = torch.randn(100,27)\n",
    "b2 = torch.randn(27)\n"
   ]
  },
  {
   "cell_type": "code",
   "execution_count": 28,
   "id": "724bc3e8",
   "metadata": {},
   "outputs": [
    {
     "data": {
      "text/plain": [
       "torch.Size([32, 27])"
      ]
     },
     "execution_count": 28,
     "metadata": {},
     "output_type": "execute_result"
    }
   ],
   "source": [
    "logits = h @ W2 + b2\n",
    "logits.shape"
   ]
  },
  {
   "cell_type": "code",
   "execution_count": 29,
   "id": "a7504bc8",
   "metadata": {},
   "outputs": [],
   "source": [
    "counts = logits.exp()"
   ]
  },
  {
   "cell_type": "code",
   "execution_count": 30,
   "id": "95c100a3",
   "metadata": {},
   "outputs": [
    {
     "data": {
      "text/plain": [
       "torch.Size([32, 27])"
      ]
     },
     "execution_count": 30,
     "metadata": {},
     "output_type": "execute_result"
    }
   ],
   "source": [
    "probs = counts/ counts.sum(1, keepdims= True)\n",
    "probs.shape"
   ]
  },
  {
   "cell_type": "code",
   "execution_count": 31,
   "id": "e09be154",
   "metadata": {},
   "outputs": [
    {
     "data": {
      "text/plain": [
       "tensor([ 0,  1,  2,  3,  4,  5,  6,  7,  8,  9, 10, 11, 12, 13, 14, 15, 16, 17,\n",
       "        18, 19, 20, 21, 22, 23, 24, 25, 26, 27, 28, 29, 30, 31])"
      ]
     },
     "execution_count": 31,
     "metadata": {},
     "output_type": "execute_result"
    }
   ],
   "source": [
    "torch.arange(32)"
   ]
  },
  {
   "cell_type": "code",
   "execution_count": 32,
   "id": "e709eacd",
   "metadata": {},
   "outputs": [
    {
     "data": {
      "text/plain": [
       "tensor([ 5, 13, 13,  1,  0, 15, 12,  9, 22,  9,  1,  0,  1, 22,  1,  0,  9, 19,\n",
       "         1,  2,  5, 12, 12,  1,  0, 19, 15, 16,  8,  9,  1,  0])"
      ]
     },
     "execution_count": 32,
     "metadata": {},
     "output_type": "execute_result"
    }
   ],
   "source": [
    "Y"
   ]
  },
  {
   "cell_type": "code",
   "execution_count": 33,
   "id": "bbaf1412",
   "metadata": {},
   "outputs": [
    {
     "data": {
      "text/plain": [
       "(tensor([1.0786e-12, 2.1778e-14, 4.9461e-14, 1.7301e-08, 3.2897e-18, 2.4639e-15,\n",
       "         2.5473e-02, 6.0515e-21, 1.0292e-06, 9.8767e-01, 5.1453e-07, 5.2972e-02,\n",
       "         4.7178e-09, 4.0485e-08, 4.0758e-07, 5.4680e-07, 3.0389e-21, 7.1905e-06,\n",
       "         4.7775e-09, 1.5946e-11, 1.4861e-12, 3.1651e-02, 6.3935e-02, 8.7243e-09,\n",
       "         1.7873e-15, 5.9453e-06, 2.4942e-15, 1.0612e-09, 3.3534e-05, 3.2553e-12,\n",
       "         4.1756e-05, 7.7322e-17]),\n",
       " torch.Size([32]))"
      ]
     },
     "execution_count": 33,
     "metadata": {},
     "output_type": "execute_result"
    }
   ],
   "source": [
    "probs[torch.arange(32), Y], probs[torch.arange(32), Y].shape"
   ]
  },
  {
   "cell_type": "code",
   "execution_count": 34,
   "id": "158aea60",
   "metadata": {},
   "outputs": [
    {
     "data": {
      "text/plain": [
       "tensor(20.8594)"
      ]
     },
     "execution_count": 34,
     "metadata": {},
     "output_type": "execute_result"
    }
   ],
   "source": [
    "loss = -probs[torch.arange(32), Y].log().mean()\n",
    "loss"
   ]
  },
  {
   "cell_type": "code",
   "execution_count": null,
   "id": "83ef77fc",
   "metadata": {},
   "outputs": [],
   "source": [
    "# ---- now made respectable ----"
   ]
  },
  {
   "cell_type": "code",
   "execution_count": 84,
   "id": "73beb0cc",
   "metadata": {},
   "outputs": [
    {
     "data": {
      "text/plain": [
       "(torch.Size([228146, 3]), torch.int64, torch.Size([228146]), torch.int64)"
      ]
     },
     "execution_count": 84,
     "metadata": {},
     "output_type": "execute_result"
    }
   ],
   "source": [
    "# build the dataset\n",
    "block_size = 3 # context length : ho0w many characters do we need to predict the next character\n",
    "X, Y = [], []\n",
    "\n",
    "for w in words:\n",
    "#     print(w)\n",
    "    context = [0] * block_size\n",
    "    \n",
    "    for ch in w +'.':\n",
    "        ix = stoi[ch]\n",
    "        X.append(context)\n",
    "        Y.append(ix)\n",
    "        \n",
    "#         print(''.join(itos[i] for i in context), '---->', itos[ix])\n",
    "        context = context[1:] + [ix] #crop and append\n",
    "X = torch.tensor(X)\n",
    "Y = torch.tensor(Y)\n",
    "X.shape, X.dtype , Y.shape, Y.dtype"
   ]
  },
  {
   "cell_type": "code",
   "execution_count": 72,
   "id": "ab1082d3",
   "metadata": {},
   "outputs": [
    {
     "data": {
      "text/plain": [
       "(torch.Size([32, 3]), torch.Size([32]))"
      ]
     },
     "execution_count": 72,
     "metadata": {},
     "output_type": "execute_result"
    }
   ],
   "source": [
    "X.shape , Y.shape"
   ]
  },
  {
   "cell_type": "code",
   "execution_count": 147,
   "id": "0dd712b2",
   "metadata": {},
   "outputs": [],
   "source": [
    "g = torch.Generator().manual_seed(2147483647)\n",
    "C =  torch.rand((27,2), generator = g)\n",
    "W1 = torch.randn((6,100), generator = g)\n",
    "b1 = torch.randn(100, generator = g)\n",
    "W2 = torch.randn((100,27), generator = g)\n",
    "b2 = torch.randn(27, generator = g)\n",
    "parameters = [C, W1, b1, W2, b2]"
   ]
  },
  {
   "cell_type": "code",
   "execution_count": 148,
   "id": "2ffc52ca",
   "metadata": {},
   "outputs": [
    {
     "data": {
      "text/plain": [
       "3481"
      ]
     },
     "execution_count": 148,
     "metadata": {},
     "output_type": "execute_result"
    }
   ],
   "source": [
    "sum(p.nelement() for \n",
    "    p in parameters)"
   ]
  },
  {
   "cell_type": "code",
   "execution_count": 149,
   "id": "074a25bf",
   "metadata": {},
   "outputs": [],
   "source": [
    "for p in parameters:\n",
    "    p.requires_grad = True"
   ]
  },
  {
   "cell_type": "code",
   "execution_count": 150,
   "id": "d88dadac",
   "metadata": {},
   "outputs": [
    {
     "data": {
      "text/plain": [
       "tensor([0.0010, 0.0010, 0.0010, 0.0010, 0.0010, 0.0010, 0.0010, 0.0010, 0.0011,\n",
       "        0.0011, 0.0011, 0.0011, 0.0011, 0.0011, 0.0011, 0.0011, 0.0011, 0.0011,\n",
       "        0.0011, 0.0011, 0.0011, 0.0012, 0.0012, 0.0012, 0.0012, 0.0012, 0.0012,\n",
       "        0.0012, 0.0012, 0.0012, 0.0012, 0.0012, 0.0012, 0.0013, 0.0013, 0.0013,\n",
       "        0.0013, 0.0013, 0.0013, 0.0013, 0.0013, 0.0013, 0.0013, 0.0013, 0.0014,\n",
       "        0.0014, 0.0014, 0.0014, 0.0014, 0.0014, 0.0014, 0.0014, 0.0014, 0.0014,\n",
       "        0.0015, 0.0015, 0.0015, 0.0015, 0.0015, 0.0015, 0.0015, 0.0015, 0.0015,\n",
       "        0.0015, 0.0016, 0.0016, 0.0016, 0.0016, 0.0016, 0.0016, 0.0016, 0.0016,\n",
       "        0.0016, 0.0017, 0.0017, 0.0017, 0.0017, 0.0017, 0.0017, 0.0017, 0.0017,\n",
       "        0.0018, 0.0018, 0.0018, 0.0018, 0.0018, 0.0018, 0.0018, 0.0018, 0.0019,\n",
       "        0.0019, 0.0019, 0.0019, 0.0019, 0.0019, 0.0019, 0.0019, 0.0020, 0.0020,\n",
       "        0.0020, 0.0020, 0.0020, 0.0020, 0.0020, 0.0021, 0.0021, 0.0021, 0.0021,\n",
       "        0.0021, 0.0021, 0.0021, 0.0022, 0.0022, 0.0022, 0.0022, 0.0022, 0.0022,\n",
       "        0.0022, 0.0023, 0.0023, 0.0023, 0.0023, 0.0023, 0.0023, 0.0024, 0.0024,\n",
       "        0.0024, 0.0024, 0.0024, 0.0024, 0.0025, 0.0025, 0.0025, 0.0025, 0.0025,\n",
       "        0.0025, 0.0026, 0.0026, 0.0026, 0.0026, 0.0026, 0.0027, 0.0027, 0.0027,\n",
       "        0.0027, 0.0027, 0.0027, 0.0028, 0.0028, 0.0028, 0.0028, 0.0028, 0.0029,\n",
       "        0.0029, 0.0029, 0.0029, 0.0029, 0.0030, 0.0030, 0.0030, 0.0030, 0.0030,\n",
       "        0.0031, 0.0031, 0.0031, 0.0031, 0.0032, 0.0032, 0.0032, 0.0032, 0.0032,\n",
       "        0.0033, 0.0033, 0.0033, 0.0033, 0.0034, 0.0034, 0.0034, 0.0034, 0.0034,\n",
       "        0.0035, 0.0035, 0.0035, 0.0035, 0.0036, 0.0036, 0.0036, 0.0036, 0.0037,\n",
       "        0.0037, 0.0037, 0.0037, 0.0038, 0.0038, 0.0038, 0.0039, 0.0039, 0.0039,\n",
       "        0.0039, 0.0040, 0.0040, 0.0040, 0.0040, 0.0041, 0.0041, 0.0041, 0.0042,\n",
       "        0.0042, 0.0042, 0.0042, 0.0043, 0.0043, 0.0043, 0.0044, 0.0044, 0.0044,\n",
       "        0.0045, 0.0045, 0.0045, 0.0045, 0.0046, 0.0046, 0.0046, 0.0047, 0.0047,\n",
       "        0.0047, 0.0048, 0.0048, 0.0048, 0.0049, 0.0049, 0.0049, 0.0050, 0.0050,\n",
       "        0.0050, 0.0051, 0.0051, 0.0051, 0.0052, 0.0052, 0.0053, 0.0053, 0.0053,\n",
       "        0.0054, 0.0054, 0.0054, 0.0055, 0.0055, 0.0056, 0.0056, 0.0056, 0.0057,\n",
       "        0.0057, 0.0058, 0.0058, 0.0058, 0.0059, 0.0059, 0.0060, 0.0060, 0.0060,\n",
       "        0.0061, 0.0061, 0.0062, 0.0062, 0.0062, 0.0063, 0.0063, 0.0064, 0.0064,\n",
       "        0.0065, 0.0065, 0.0066, 0.0066, 0.0067, 0.0067, 0.0067, 0.0068, 0.0068,\n",
       "        0.0069, 0.0069, 0.0070, 0.0070, 0.0071, 0.0071, 0.0072, 0.0072, 0.0073,\n",
       "        0.0073, 0.0074, 0.0074, 0.0075, 0.0075, 0.0076, 0.0076, 0.0077, 0.0077,\n",
       "        0.0078, 0.0079, 0.0079, 0.0080, 0.0080, 0.0081, 0.0081, 0.0082, 0.0082,\n",
       "        0.0083, 0.0084, 0.0084, 0.0085, 0.0085, 0.0086, 0.0086, 0.0087, 0.0088,\n",
       "        0.0088, 0.0089, 0.0090, 0.0090, 0.0091, 0.0091, 0.0092, 0.0093, 0.0093,\n",
       "        0.0094, 0.0095, 0.0095, 0.0096, 0.0097, 0.0097, 0.0098, 0.0099, 0.0099,\n",
       "        0.0100, 0.0101, 0.0101, 0.0102, 0.0103, 0.0104, 0.0104, 0.0105, 0.0106,\n",
       "        0.0106, 0.0107, 0.0108, 0.0109, 0.0109, 0.0110, 0.0111, 0.0112, 0.0112,\n",
       "        0.0113, 0.0114, 0.0115, 0.0116, 0.0116, 0.0117, 0.0118, 0.0119, 0.0120,\n",
       "        0.0121, 0.0121, 0.0122, 0.0123, 0.0124, 0.0125, 0.0126, 0.0127, 0.0127,\n",
       "        0.0128, 0.0129, 0.0130, 0.0131, 0.0132, 0.0133, 0.0134, 0.0135, 0.0136,\n",
       "        0.0137, 0.0137, 0.0138, 0.0139, 0.0140, 0.0141, 0.0142, 0.0143, 0.0144,\n",
       "        0.0145, 0.0146, 0.0147, 0.0148, 0.0149, 0.0150, 0.0151, 0.0152, 0.0154,\n",
       "        0.0155, 0.0156, 0.0157, 0.0158, 0.0159, 0.0160, 0.0161, 0.0162, 0.0163,\n",
       "        0.0165, 0.0166, 0.0167, 0.0168, 0.0169, 0.0170, 0.0171, 0.0173, 0.0174,\n",
       "        0.0175, 0.0176, 0.0178, 0.0179, 0.0180, 0.0181, 0.0182, 0.0184, 0.0185,\n",
       "        0.0186, 0.0188, 0.0189, 0.0190, 0.0192, 0.0193, 0.0194, 0.0196, 0.0197,\n",
       "        0.0198, 0.0200, 0.0201, 0.0202, 0.0204, 0.0205, 0.0207, 0.0208, 0.0210,\n",
       "        0.0211, 0.0212, 0.0214, 0.0215, 0.0217, 0.0218, 0.0220, 0.0221, 0.0223,\n",
       "        0.0225, 0.0226, 0.0228, 0.0229, 0.0231, 0.0232, 0.0234, 0.0236, 0.0237,\n",
       "        0.0239, 0.0241, 0.0242, 0.0244, 0.0246, 0.0247, 0.0249, 0.0251, 0.0253,\n",
       "        0.0254, 0.0256, 0.0258, 0.0260, 0.0261, 0.0263, 0.0265, 0.0267, 0.0269,\n",
       "        0.0271, 0.0273, 0.0274, 0.0276, 0.0278, 0.0280, 0.0282, 0.0284, 0.0286,\n",
       "        0.0288, 0.0290, 0.0292, 0.0294, 0.0296, 0.0298, 0.0300, 0.0302, 0.0304,\n",
       "        0.0307, 0.0309, 0.0311, 0.0313, 0.0315, 0.0317, 0.0320, 0.0322, 0.0324,\n",
       "        0.0326, 0.0328, 0.0331, 0.0333, 0.0335, 0.0338, 0.0340, 0.0342, 0.0345,\n",
       "        0.0347, 0.0350, 0.0352, 0.0354, 0.0357, 0.0359, 0.0362, 0.0364, 0.0367,\n",
       "        0.0369, 0.0372, 0.0375, 0.0377, 0.0380, 0.0382, 0.0385, 0.0388, 0.0390,\n",
       "        0.0393, 0.0396, 0.0399, 0.0401, 0.0404, 0.0407, 0.0410, 0.0413, 0.0416,\n",
       "        0.0418, 0.0421, 0.0424, 0.0427, 0.0430, 0.0433, 0.0436, 0.0439, 0.0442,\n",
       "        0.0445, 0.0448, 0.0451, 0.0455, 0.0458, 0.0461, 0.0464, 0.0467, 0.0471,\n",
       "        0.0474, 0.0477, 0.0480, 0.0484, 0.0487, 0.0491, 0.0494, 0.0497, 0.0501,\n",
       "        0.0504, 0.0508, 0.0511, 0.0515, 0.0518, 0.0522, 0.0526, 0.0529, 0.0533,\n",
       "        0.0537, 0.0540, 0.0544, 0.0548, 0.0552, 0.0556, 0.0559, 0.0563, 0.0567,\n",
       "        0.0571, 0.0575, 0.0579, 0.0583, 0.0587, 0.0591, 0.0595, 0.0599, 0.0604,\n",
       "        0.0608, 0.0612, 0.0616, 0.0621, 0.0625, 0.0629, 0.0634, 0.0638, 0.0642,\n",
       "        0.0647, 0.0651, 0.0656, 0.0660, 0.0665, 0.0670, 0.0674, 0.0679, 0.0684,\n",
       "        0.0688, 0.0693, 0.0698, 0.0703, 0.0708, 0.0713, 0.0718, 0.0723, 0.0728,\n",
       "        0.0733, 0.0738, 0.0743, 0.0748, 0.0753, 0.0758, 0.0764, 0.0769, 0.0774,\n",
       "        0.0780, 0.0785, 0.0790, 0.0796, 0.0802, 0.0807, 0.0813, 0.0818, 0.0824,\n",
       "        0.0830, 0.0835, 0.0841, 0.0847, 0.0853, 0.0859, 0.0865, 0.0871, 0.0877,\n",
       "        0.0883, 0.0889, 0.0895, 0.0901, 0.0908, 0.0914, 0.0920, 0.0927, 0.0933,\n",
       "        0.0940, 0.0946, 0.0953, 0.0959, 0.0966, 0.0973, 0.0979, 0.0986, 0.0993,\n",
       "        0.1000, 0.1007, 0.1014, 0.1021, 0.1028, 0.1035, 0.1042, 0.1050, 0.1057,\n",
       "        0.1064, 0.1072, 0.1079, 0.1087, 0.1094, 0.1102, 0.1109, 0.1117, 0.1125,\n",
       "        0.1133, 0.1140, 0.1148, 0.1156, 0.1164, 0.1172, 0.1181, 0.1189, 0.1197,\n",
       "        0.1205, 0.1214, 0.1222, 0.1231, 0.1239, 0.1248, 0.1256, 0.1265, 0.1274,\n",
       "        0.1283, 0.1292, 0.1301, 0.1310, 0.1319, 0.1328, 0.1337, 0.1346, 0.1356,\n",
       "        0.1365, 0.1374, 0.1384, 0.1394, 0.1403, 0.1413, 0.1423, 0.1433, 0.1443,\n",
       "        0.1453, 0.1463, 0.1473, 0.1483, 0.1493, 0.1504, 0.1514, 0.1525, 0.1535,\n",
       "        0.1546, 0.1557, 0.1567, 0.1578, 0.1589, 0.1600, 0.1611, 0.1623, 0.1634,\n",
       "        0.1645, 0.1657, 0.1668, 0.1680, 0.1691, 0.1703, 0.1715, 0.1727, 0.1739,\n",
       "        0.1751, 0.1763, 0.1775, 0.1788, 0.1800, 0.1812, 0.1825, 0.1838, 0.1850,\n",
       "        0.1863, 0.1876, 0.1889, 0.1902, 0.1916, 0.1929, 0.1942, 0.1956, 0.1969,\n",
       "        0.1983, 0.1997, 0.2010, 0.2024, 0.2038, 0.2053, 0.2067, 0.2081, 0.2096,\n",
       "        0.2110, 0.2125, 0.2140, 0.2154, 0.2169, 0.2184, 0.2200, 0.2215, 0.2230,\n",
       "        0.2246, 0.2261, 0.2277, 0.2293, 0.2309, 0.2325, 0.2341, 0.2357, 0.2373,\n",
       "        0.2390, 0.2406, 0.2423, 0.2440, 0.2457, 0.2474, 0.2491, 0.2508, 0.2526,\n",
       "        0.2543, 0.2561, 0.2579, 0.2597, 0.2615, 0.2633, 0.2651, 0.2669, 0.2688,\n",
       "        0.2707, 0.2725, 0.2744, 0.2763, 0.2783, 0.2802, 0.2821, 0.2841, 0.2861,\n",
       "        0.2880, 0.2900, 0.2921, 0.2941, 0.2961, 0.2982, 0.3002, 0.3023, 0.3044,\n",
       "        0.3065, 0.3087, 0.3108, 0.3130, 0.3151, 0.3173, 0.3195, 0.3217, 0.3240,\n",
       "        0.3262, 0.3285, 0.3308, 0.3331, 0.3354, 0.3377, 0.3400, 0.3424, 0.3448,\n",
       "        0.3472, 0.3496, 0.3520, 0.3544, 0.3569, 0.3594, 0.3619, 0.3644, 0.3669,\n",
       "        0.3695, 0.3720, 0.3746, 0.3772, 0.3798, 0.3825, 0.3851, 0.3878, 0.3905,\n",
       "        0.3932, 0.3959, 0.3987, 0.4014, 0.4042, 0.4070, 0.4098, 0.4127, 0.4155,\n",
       "        0.4184, 0.4213, 0.4243, 0.4272, 0.4302, 0.4331, 0.4362, 0.4392, 0.4422,\n",
       "        0.4453, 0.4484, 0.4515, 0.4546, 0.4578, 0.4610, 0.4642, 0.4674, 0.4706,\n",
       "        0.4739, 0.4772, 0.4805, 0.4838, 0.4872, 0.4906, 0.4940, 0.4974, 0.5008,\n",
       "        0.5043, 0.5078, 0.5113, 0.5149, 0.5185, 0.5221, 0.5257, 0.5293, 0.5330,\n",
       "        0.5367, 0.5404, 0.5442, 0.5479, 0.5517, 0.5556, 0.5594, 0.5633, 0.5672,\n",
       "        0.5712, 0.5751, 0.5791, 0.5831, 0.5872, 0.5913, 0.5954, 0.5995, 0.6036,\n",
       "        0.6078, 0.6120, 0.6163, 0.6206, 0.6249, 0.6292, 0.6336, 0.6380, 0.6424,\n",
       "        0.6469, 0.6513, 0.6559, 0.6604, 0.6650, 0.6696, 0.6743, 0.6789, 0.6837,\n",
       "        0.6884, 0.6932, 0.6980, 0.7028, 0.7077, 0.7126, 0.7176, 0.7225, 0.7275,\n",
       "        0.7326, 0.7377, 0.7428, 0.7480, 0.7531, 0.7584, 0.7636, 0.7689, 0.7743,\n",
       "        0.7796, 0.7850, 0.7905, 0.7960, 0.8015, 0.8071, 0.8127, 0.8183, 0.8240,\n",
       "        0.8297, 0.8355, 0.8412, 0.8471, 0.8530, 0.8589, 0.8648, 0.8708, 0.8769,\n",
       "        0.8830, 0.8891, 0.8953, 0.9015, 0.9077, 0.9140, 0.9204, 0.9268, 0.9332,\n",
       "        0.9397, 0.9462, 0.9528, 0.9594, 0.9660, 0.9727, 0.9795, 0.9863, 0.9931,\n",
       "        1.0000])"
      ]
     },
     "execution_count": 150,
     "metadata": {},
     "output_type": "execute_result"
    }
   ],
   "source": [
    "lre = torch.linspace(-3, 0, 1000)  #lre is learning rate exponential\n",
    "lrs = 10 ** lre\n",
    "lrs"
   ]
  },
  {
   "cell_type": "code",
   "execution_count": 100,
   "id": "13845ca8",
   "metadata": {},
   "outputs": [],
   "source": [
    "# counts = logits.exp()\n",
    "# probs = counts / counts.sum(1, keepdims = True)\n",
    "# loss = -probs[torch.arange(32), Y].log().mean()\n",
    "\n",
    "# the above lines are cross_entropy loss\n",
    "# but always use F.cross_entropy() \n",
    "# reasons much efficient backward and forward pass\n",
    "# And the numbers are numerically well behaved in crossentropy\n",
    "# example\n",
    "# the probs will become infinity when there is bigger positive numbers considering we have negative numbers also\n",
    "\n",
    "# logits = torch.tensor([-5,-3, 0, 5])\n",
    "# counts = logits.exp()\n",
    "# probs = counts / counts.sum()\n",
    "# probs\n",
    "\n",
    "# so pytorch solves it by subtracting the entire tensors with the max value from that tensor \n",
    "# then the max value will be zero and others will be negative\n",
    "\n",
    "\n",
    "# logits = torch.tensor([-5,-3, 0, 100]) -100\n",
    "# counts = logits.exp()\n",
    "# probs = counts / counts.sum()\n",
    "# probs"
   ]
  },
  {
   "cell_type": "code",
   "execution_count": 79,
   "id": "3de6e4d1",
   "metadata": {},
   "outputs": [
    {
     "name": "stdout",
     "output_type": "stream",
     "text": [
      "0.25174373388290405\n"
     ]
    }
   ],
   "source": [
    "for i in range(10000):\n",
    "    #Forward pass\n",
    "    emb = C[X] #(32,3,2)\n",
    "    h = torch.tanh(emb.view(-1, 6) @ W1 +b1) # (32, 100)\n",
    "    logits = h @ W2 + b2 #(32, 27)\n",
    "    loss = F.cross_entropy(logits, Y)\n",
    "#     print(loss.item())\n",
    "    #backward pass\n",
    "    for p in parameters:\n",
    "        p.grad = None\n",
    "    \n",
    "    loss.backward()\n",
    "    \n",
    "    \n",
    "    #update\n",
    "    for p in parameters:\n",
    "        p.data += -0.1 * p.grad\n",
    "        \n",
    "print(loss.item())\n"
   ]
  },
  {
   "cell_type": "code",
   "execution_count": 145,
   "id": "599f9921",
   "metadata": {},
   "outputs": [
    {
     "name": "stdout",
     "output_type": "stream",
     "text": [
      "9.194597244262695\n"
     ]
    }
   ],
   "source": [
    "lri = []\n",
    "lossi = []\n",
    "\n",
    "for i in range(1000):\n",
    "    \n",
    "    #minibatch construct\n",
    "    ix = torch.randint(0, X.shape[0], (32,))\n",
    "    \n",
    "    #forward pass\n",
    "    emb = C[X[ix]]\n",
    "    h = torch.tanh(emb.view(-1, 6) @ W1 + b1) # (32, 100)\n",
    "    logits = h @ W2 +b2\n",
    "    loss = F.cross_entropy(logits, Y[ix])\n",
    "#     print(loss.item())\n",
    "    \n",
    "    #backward pass\n",
    "    for p in parameters:\n",
    "        p.grad = None\n",
    "    \n",
    "    loss.backward()\n",
    "    \n",
    "    #update \n",
    "    lr = lrs[i]\n",
    "    for p in parameters:\n",
    "        p.data += -lr *p.grad\n",
    "    \n",
    "    lri.append(lre[i])\n",
    "    lossi.append(loss.item())\n",
    "print(loss.item())        "
   ]
  },
  {
   "cell_type": "code",
   "execution_count": 154,
   "id": "6f72eab2",
   "metadata": {},
   "outputs": [
    {
     "name": "stdout",
     "output_type": "stream",
     "text": [
      "2.190373659133911\n"
     ]
    }
   ],
   "source": [
    "lri = []\n",
    "lossi = []\n",
    "\n",
    "for i in range(10000):\n",
    "    \n",
    "    #minibatch construct\n",
    "    ix = torch.randint(0, X.shape[0], (32,))\n",
    "    \n",
    "    #forward pass\n",
    "    emb = C[X[ix]]\n",
    "    h = torch.tanh(emb.view(-1, 6) @ W1 + b1) # (32, 100)\n",
    "    logits = h @ W2 +b2\n",
    "    loss = F.cross_entropy(logits, Y[ix])\n",
    "#     print(loss.item())\n",
    "    \n",
    "    #backward pass\n",
    "    for p in parameters:\n",
    "        p.grad = None\n",
    "    \n",
    "    loss.backward()\n",
    "    \n",
    "    #update \n",
    "    lr = 0.01\n",
    "    for p in parameters:\n",
    "        p.data += -lr *p.grad\n",
    "    \n",
    "#     lri.append(lre[i])\n",
    "#     lossi.append(loss.item())\n",
    "print(loss.item())        "
   ]
  },
  {
   "cell_type": "code",
   "execution_count": 146,
   "id": "84da296a",
   "metadata": {},
   "outputs": [
    {
     "data": {
      "text/plain": [
       "[<matplotlib.lines.Line2D at 0x21eb9199410>]"
      ]
     },
     "execution_count": 146,
     "metadata": {},
     "output_type": "execute_result"
    },
    {
     "data": {
      "image/png": "[encoded data removed]",
      "text/plain": [
       "<Figure size 640x480 with 1 Axes>"
      ]
     },
     "metadata": {},
     "output_type": "display_data"
    }
   ],
   "source": [
    "import matplotlib.pyplot as plt\n",
    "plt.plot(lri, lossi)"
   ]
  },
  {
   "cell_type": "code",
   "execution_count": 82,
   "id": "6b886ab2",
   "metadata": {
    "scrolled": true
   },
   "outputs": [
    {
     "data": {
      "text/plain": [
       "torch.return_types.max(\n",
       "values=tensor([11.1148, 20.9239, 19.6394, 22.5136, 20.0425, 11.1148, 21.1050, 21.2855,\n",
       "        19.4115, 16.8885, 21.2223, 16.2022, 11.1148, 15.4837, 25.8463, 20.5911,\n",
       "        11.1148, 14.7327, 21.6894, 19.7582, 23.8014, 20.1148, 25.2369, 22.5962,\n",
       "        16.2593, 11.1148, 18.5735, 20.5273, 18.4376, 15.9880, 18.7720, 17.6500],\n",
       "       grad_fn=<MaxBackward0>),\n",
       "indices=tensor([19, 13, 13,  1,  0, 19, 12,  9, 22,  9,  1,  0, 19, 22,  1,  0, 19, 19,\n",
       "         1,  2,  5, 12, 12,  1,  0, 19, 15, 16,  8,  9,  1,  0]))"
      ]
     },
     "execution_count": 82,
     "metadata": {},
     "output_type": "execute_result"
    }
   ],
   "source": [
    "logits.max(1) #It will give the max value and also the corresponding indices"
   ]
  },
  {
   "cell_type": "code",
   "execution_count": 155,
   "id": "44216506",
   "metadata": {},
   "outputs": [
    {
     "name": "stdout",
     "output_type": "stream",
     "text": [
      "2.351369619369507\n"
     ]
    }
   ],
   "source": [
    "#forward pass\n",
    "emb = C[X]\n",
    "h = torch.tanh(emb.view(-1, 6) @ W1 + b1) # (32, 100)\n",
    "logits = h @ W2 +b2\n",
    "loss = F.cross_entropy(logits, Y)\n",
    "print(loss.item())"
   ]
  },
  {
   "cell_type": "code",
   "execution_count": 105,
   "id": "89c7ed31",
   "metadata": {},
   "outputs": [
    {
     "data": {
      "text/plain": [
       "228146"
      ]
     },
     "execution_count": 105,
     "metadata": {},
     "output_type": "execute_result"
    }
   ],
   "source": [
    "X.shape[0]"
   ]
  },
  {
   "cell_type": "code",
   "execution_count": 156,
   "id": "908cfa3e",
   "metadata": {},
   "outputs": [],
   "source": [
    "## How to get the optimal Learning rate\n",
    "# initialize the learning rate and infer the loss "
   ]
  },
  {
   "cell_type": "markdown",
   "id": "016ee361",
   "metadata": {},
   "source": [
    "## Create Train Val(dev) and test sets"
   ]
  },
  {
   "cell_type": "code",
   "execution_count": 182,
   "id": "2f528460",
   "metadata": {},
   "outputs": [
    {
     "name": "stdout",
     "output_type": "stream",
     "text": [
      "torch.Size([182512, 3]) torch.Size([182512])\n",
      "torch.Size([22860, 3]) torch.Size([22860])\n",
      "torch.Size([22774, 3]) torch.Size([22774])\n",
      "training set - torch.Size([182512, 3]) , torch.Size([182512])\n",
      "val/dev set - torch.Size([22860, 3]) , torch.Size([22860])\n",
      "test set - torch.Size([22774, 3]) , torch.Size([22774])\n"
     ]
    }
   ],
   "source": [
    "#build dattaset\n",
    "\n",
    "def build_dataset(words):\n",
    "    assert isinstance(words, list), 'the given input shoul be a list'\n",
    "    \n",
    "    block_size = 3\n",
    "    X, Y = [], []\n",
    "    \n",
    "    for w in words:\n",
    "        context = [0] * block_size\n",
    "        \n",
    "        for ch in w + '.':\n",
    "            ix = stoi[ch]\n",
    "            X.append(context)\n",
    "            Y.append(ix)\n",
    "            \n",
    "            context = context[1:] + [ix]\n",
    "    \n",
    "    X = torch.tensor(X)\n",
    "    Y = torch.tensor(Y)\n",
    "    print(X.shape, Y.shape)\n",
    "    return X,Y\n",
    "\n",
    "import random\n",
    "random.seed(42)\n",
    "random.shuffle(words)\n",
    "n1 = int(0.8 * len(words))\n",
    "n2 = int(0.9 * len(words))\n",
    "\n",
    "Xtr, Ytr = build_dataset(words[:n1])\n",
    "Xdev, Ydev = build_dataset(words[n1:n2])\n",
    "Xte, Yte = build_dataset(words[n2:])\n",
    "\n",
    "print(f\"training set - {Xtr.shape} , {Ytr.shape}\")\n",
    "print(f\"val/dev set - {Xdev.shape} , {Ydev.shape}\")\n",
    "print(f\"test set - {Xte.shape} , {Yte.shape}\")\n"
   ]
  },
  {
   "cell_type": "code",
   "execution_count": 183,
   "id": "f95aa2ae",
   "metadata": {},
   "outputs": [
    {
     "data": {
      "text/plain": [
       "(torch.Size([182512, 3]), torch.Size([182512]))"
      ]
     },
     "execution_count": 183,
     "metadata": {},
     "output_type": "execute_result"
    }
   ],
   "source": [
    "Xtr.shape, Ytr.shape"
   ]
  },
  {
   "cell_type": "code",
   "execution_count": 192,
   "id": "453f50ca",
   "metadata": {},
   "outputs": [],
   "source": [
    "g = torch.Generator().manual_seed(2147483647)\n",
    "C =  torch.rand((27,2), generator = g)\n",
    "W1 = torch.randn((6,300), generator = g)\n",
    "b1 = torch.randn(300, generator = g)\n",
    "W2 = torch.randn((300,27), generator = g)\n",
    "b2 = torch.randn(27, generator = g)\n",
    "parameters = [C, W1, b1, W2, b2]"
   ]
  },
  {
   "cell_type": "code",
   "execution_count": 193,
   "id": "22abe595",
   "metadata": {},
   "outputs": [
    {
     "data": {
      "text/plain": [
       "10281"
      ]
     },
     "execution_count": 193,
     "metadata": {},
     "output_type": "execute_result"
    }
   ],
   "source": [
    "sum(p.nelement() for \n",
    "    p in parameters)"
   ]
  },
  {
   "cell_type": "code",
   "execution_count": 194,
   "id": "13d6252f",
   "metadata": {},
   "outputs": [],
   "source": [
    "for p in parameters:\n",
    "    p.requires_grad = True"
   ]
  },
  {
   "cell_type": "code",
   "execution_count": 209,
   "id": "c3dfa34d",
   "metadata": {},
   "outputs": [
    {
     "name": "stdout",
     "output_type": "stream",
     "text": [
      "1.910431146621704\n"
     ]
    }
   ],
   "source": [
    "lri = []\n",
    "lossi = []\n",
    "stepi = []\n",
    "\n",
    "for i in range(30000):\n",
    "    \n",
    "    #minibatch construct\n",
    "    ix = torch.randint(0, Xtr.shape[0], (32,))\n",
    "    \n",
    "    #forward pass\n",
    "    emb = C[Xtr[ix]] #(32,3,2)\n",
    "    h = torch.tanh(emb.view(-1, 6) @ W1 + b1) # (32, 100)\n",
    "    logits = h @ W2 +b2\n",
    "    loss = F.cross_entropy(logits, Ytr[ix])\n",
    "#     print(loss.item())\n",
    "    \n",
    "    #backward pass\n",
    "    for p in parameters:\n",
    "        p.grad = None\n",
    "    \n",
    "    loss.backward()\n",
    "    \n",
    "    #update \n",
    "    lr = 0.01\n",
    "    for p in parameters:\n",
    "        p.data += -lr *p.grad\n",
    "    \n",
    "#     lri.append(lre[i])\n",
    "    stepi.append(i)\n",
    "    lossi.append(loss.item())\n",
    "print(loss.item())        "
   ]
  },
  {
   "cell_type": "code",
   "execution_count": 210,
   "id": "bc42a779",
   "metadata": {},
   "outputs": [
    {
     "data": {
      "text/plain": [
       "[<matplotlib.lines.Line2D at 0x21ebe311790>]"
      ]
     },
     "execution_count": 210,
     "metadata": {},
     "output_type": "execute_result"
    },
    {
     "data": {
      "image/png": "[encoded data removed]",
      "text/plain": [
       "<Figure size 640x480 with 1 Axes>"
      ]
     },
     "metadata": {},
     "output_type": "display_data"
    }
   ],
   "source": [
    "plt.plot(stepi, lossi)"
   ]
  },
  {
   "cell_type": "code",
   "execution_count": 211,
   "id": "e8638e70",
   "metadata": {},
   "outputs": [
    {
     "name": "stdout",
     "output_type": "stream",
     "text": [
      "2.2516093254089355\n"
     ]
    }
   ],
   "source": [
    "#forward pass\n",
    "emb = C[Xdev]\n",
    "h = torch.tanh(emb.view(-1, 6) @ W1 + b1) # (32, 100)\n",
    "logits = h @ W2 +b2\n",
    "loss = F.cross_entropy(logits, Ydev)\n",
    "print(loss.item())"
   ]
  },
  {
   "cell_type": "code",
   "execution_count": 212,
   "id": "195afa65",
   "metadata": {},
   "outputs": [
    {
     "name": "stdout",
     "output_type": "stream",
     "text": [
      "2.24228572845459\n"
     ]
    }
   ],
   "source": [
    "#forward pass\n",
    "emb = C[Xtr]\n",
    "h = torch.tanh(emb.view(-1, 6) @ W1 + b1) # (32, 100)\n",
    "logits = h @ W2 +b2\n",
    "loss = F.cross_entropy(logits, Ytr)\n",
    "print(loss.item())"
   ]
  },
  {
   "cell_type": "markdown",
   "id": "7f65291a",
   "metadata": {},
   "source": [
    "## Visualize the embedding dimensions of the letters"
   ]
  },
  {
   "cell_type": "code",
   "execution_count": 214,
   "id": "fbcde671",
   "metadata": {},
   "outputs": [
    {
     "data": {
      "image/png": "[encoded data removed]",
      "text/plain": [
       "<Figure size 1000x1000 with 1 Axes>"
      ]
     },
     "metadata": {},
     "output_type": "display_data"
    }
   ],
   "source": [
    "plt.figure(figsize = (10,10))\n",
    "plt.scatter(C[:,0].data, C[:,1].data, s= 200)\n",
    "\n",
    "for i in range(C.shape[0]):\n",
    "    plt.text(C[i,0].item(), C[i,1].item(), itos[i], ha = \"center\", va = \"center\", color = 'white')\n",
    "    \n",
    "plt.grid('minor')"
   ]
  },
  {
   "cell_type": "markdown",
   "id": "6897f6f5",
   "metadata": {},
   "source": [
    "## Increase the embedding dimensions"
   ]
  },
  {
   "cell_type": "code",
   "execution_count": 288,
   "id": "38d78b46",
   "metadata": {},
   "outputs": [],
   "source": [
    "g = torch.Generator().manual_seed(2147483647)\n",
    "C =  torch.rand((27,10), generator = g)\n",
    "W1 = torch.randn((30,200), generator = g)\n",
    "b1 = torch.randn(200, generator = g)\n",
    "W2 = torch.randn((200,27), generator = g)\n",
    "b2 = torch.randn(27, generator = g)\n",
    "parameters = [C, W1, b1, W2, b2]"
   ]
  },
  {
   "cell_type": "code",
   "execution_count": 289,
   "id": "fc657feb",
   "metadata": {},
   "outputs": [
    {
     "data": {
      "text/plain": [
       "11897"
      ]
     },
     "execution_count": 289,
     "metadata": {},
     "output_type": "execute_result"
    }
   ],
   "source": [
    "sum(p.nelement() for \n",
    "    p in parameters)"
   ]
  },
  {
   "cell_type": "code",
   "execution_count": 290,
   "id": "14a85940",
   "metadata": {},
   "outputs": [],
   "source": [
    "for p in parameters:\n",
    "    p.requires_grad = True"
   ]
  },
  {
   "cell_type": "code",
   "execution_count": 273,
   "id": "fd9432d7",
   "metadata": {},
   "outputs": [],
   "source": [
    "lri = []\n",
    "lossi = []\n",
    "stepi = []"
   ]
  },
  {
   "cell_type": "code",
   "execution_count": 291,
   "id": "89691bb2",
   "metadata": {},
   "outputs": [
    {
     "name": "stdout",
     "output_type": "stream",
     "text": [
      "2.340754985809326\n"
     ]
    }
   ],
   "source": [
    "\n",
    "for i in range(50000):\n",
    "    \n",
    "    #minibatch construct\n",
    "    ix = torch.randint(0, Xtr.shape[0], (100,))\n",
    "    \n",
    "    #forward pass\n",
    "    emb = C[Xtr[ix]] #(32,3,2)\n",
    "    h = torch.tanh(emb.view(-1, 30) @ W1 + b1) # (32, 100)\n",
    "    logits = h @ W2 +b2\n",
    "    loss = F.cross_entropy(logits, Ytr[ix])\n",
    "#     print(loss.item())\n",
    "    \n",
    "    #backward pass\n",
    "    for p in parameters:\n",
    "        p.grad = None\n",
    "    \n",
    "    loss.backward()\n",
    "    \n",
    "    #update \n",
    "#     lr = 0.1\n",
    "    lr = 0.1 if i <30000 else 0.01\n",
    "    for p in parameters:\n",
    "        p.data += -lr *p.grad\n",
    "    \n",
    "#     lri.append(lre[i])\n",
    "    stepi.append(i)\n",
    "    lossi.append(loss.log10().item())\n",
    "print(loss.item())        "
   ]
  },
  {
   "cell_type": "code",
   "execution_count": 292,
   "id": "18b09341",
   "metadata": {},
   "outputs": [
    {
     "data": {
      "text/plain": [
       "[<matplotlib.lines.Line2D at 0x21ee7a70cd0>]"
      ]
     },
     "execution_count": 292,
     "metadata": {},
     "output_type": "execute_result"
    },
    {
     "data": {
      "image/png": "[encoded data removed]",
      "text/plain": [
       "<Figure size 640x480 with 1 Axes>"
      ]
     },
     "metadata": {},
     "output_type": "display_data"
    }
   ],
   "source": [
    "plt.plot(stepi, lossi)"
   ]
  },
  {
   "cell_type": "code",
   "execution_count": 293,
   "id": "b37cc614",
   "metadata": {},
   "outputs": [
    {
     "name": "stdout",
     "output_type": "stream",
     "text": [
      "2.2456228733062744\n"
     ]
    }
   ],
   "source": [
    "#forward pass\n",
    "emb = C[Xtr]\n",
    "h = torch.tanh(emb.view(-1, 30) @ W1 + b1) # (32, 100)\n",
    "logits = h @ W2 +b2\n",
    "loss = F.cross_entropy(logits, Ytr)\n",
    "print(loss.item())"
   ]
  },
  {
   "cell_type": "code",
   "execution_count": 294,
   "id": "908104b8",
   "metadata": {},
   "outputs": [
    {
     "name": "stdout",
     "output_type": "stream",
     "text": [
      "2.252153158187866\n"
     ]
    }
   ],
   "source": [
    "#forward pass\n",
    "emb = C[Xdev]\n",
    "h = torch.tanh(emb.view(-1, 30) @ W1 + b1) # (32, 100)\n",
    "logits = h @ W2 +b2\n",
    "loss = F.cross_entropy(logits, Ydev)\n",
    "print(loss.item())"
   ]
  },
  {
   "cell_type": "code",
   "execution_count": 295,
   "id": "91d7d87c",
   "metadata": {},
   "outputs": [
    {
     "data": {
      "image/png": "[encoded data removed]",
      "text/plain": [
       "<Figure size 1000x1000 with 1 Axes>"
      ]
     },
     "metadata": {},
     "output_type": "display_data"
    }
   ],
   "source": [
    "plt.figure(figsize = (10,10))\n",
    "plt.scatter(C[:,0].data, C[:,1].data, s= 200)\n",
    "\n",
    "for i in range(C.shape[0]):\n",
    "    plt.text(C[i,0].item(), C[i,1].item(), itos[i], ha = \"center\", va = \"center\", color = 'white')\n",
    "    \n",
    "plt.grid('minor')"
   ]
  },
  {
   "cell_type": "code",
   "execution_count": 296,
   "id": "99b6d588",
   "metadata": {},
   "outputs": [
    {
     "name": "stdout",
     "output_type": "stream",
     "text": [
      "ucdeeetdieeetdieeetdieeetdieeetdieeetdieeetdieeetdieeetdieeetdieeetdieeetdieeetdieeetdieeetdieeetdieeetdieeetdieeetdieeetdieeetdieeet.\n",
      "ucdiaeeetdieeetdieeetdieeetdieeetdieeetdieeetdieeetdieeetdieeetdieeetdieeetdieeetdieeetdieeetdieeetdieeetdieeetdieeet.\n",
      "ucdias.\n",
      "ucdias.\n",
      "ucdeeetdieeetdieeetdieeetd.\n",
      "ucdiaseeetdieeetdieeet.\n",
      "ucdeeetdieeet.\n",
      "ucdiaseeetdieeetdieeetdieeetdieeetdieeetdieeetdieeetdieeet.\n",
      "ucdiaseeetdieeetdieeetdieeetdieeetdieeetdieeetd.\n",
      "ucdiaseeetdieeetdieeetdieeetdieeetdieeetdieeetdieeetdieeetdieeetdieeetdieeetdieeetdieeetdieeetdieeetdieeetdieeet.\n",
      "zcoeetdieeetdieeetdieeetdieeetdieeet.\n",
      "ucdiaseeetdieeetdieeet.\n",
      "ucdiaseeetdieeetdieeetdieeetdieeetdieeetdieeetdieeetdieeetdieeetdieeetdieeetdieeetdieeetdieeetdieeetdieeetdieeetdieeetdieeetdieeetdieeetdieeetdieeetdieeetdieeetdieetdieeetdieeetdieeetdieeetdieeetdieeetdieeetdieeetdieeetdieeet.\n",
      "ucdiaseeetdieeetdieeetdieeetdieeetdieeetdieeetdieeetdieeetdieeetdieeetdieeetdieeetdieeetdieeetdieeetdieeetdieeetdieeetdieeetdieeetdieeetdieeetdieeetdieeetdieeetdieeetdieeetdieeetdieeetdieeetdieeetdieeetdieeetdieeetdieeetdieeetdieeetdieeetdieeetdieeetdieeetdieeetdieeetdieeetdieeetdieeetdieeetdieeetdieeetdieeetdieeetdieeetdieeetdieeetdieeetdieeetdieeetdieeetdieeetdieeetdieeetdieeetdieeetdieeetdieeetdieeet.\n",
      "ucdiaseeetdieeetdieeetdieeetdieeetdieeet.\n",
      "ucdiaeeetdieeetdieeetdieeetdieeetdieeetdieeetdieeetdieeetdieeetdieeet.\n",
      "ucdeeetdieeetdieeetdieeetdieeetdieeet.\n",
      "ucdeeetdieeetdieeetdieeetdieeetdieeetdieeetdieeetdieeetdieeetdieeetdieeetdieeetdieeetdieeetdieeetdieeetdieeetdieeetdieeetdieeetdieeetdieeetdieeet.\n",
      "ucdiaseeetdieeetdieeetdieeetdieeetdieeetdieeetdieeetdieeetdieeetdieeet.\n",
      "ucdias.\n"
     ]
    }
   ],
   "source": [
    "#sample from the model\n",
    "\n",
    "g= torch.Generator().manual_seed(100)\n",
    "\n",
    "for _ in range(20):\n",
    "    \n",
    "    out = []\n",
    "    context = [0] * block_size\n",
    "    \n",
    "    while True:\n",
    "        emb = C[torch.tensor([context])]  #(1, blocksize, dim)\n",
    "        h = torch.tanh(emb.view(1,-1)) @ W1 + b1\n",
    "        logits = h @ W2 +b2\n",
    "        probs = F.softmax(logits, dim =1)\n",
    "        ix = torch.multinomial(probs, num_samples = 1, generator = g).item()\n",
    "        context = context[1:] + [ix]\n",
    "        out.append(ix)\n",
    "        \n",
    "        if ix == 0:\n",
    "            break\n",
    "    \n",
    "    print(\"\".join(itos[i] for i in out))\n",
    "        "
   ]
  },
  {
   "cell_type": "code",
   "execution_count": null,
   "id": "8aabba32",
   "metadata": {},
   "outputs": [],
   "source": []
  }
 ],
 "metadata": {
  "kernelspec": {
   "display_name": "Python 3 (ipykernel)",
   "language": "python",
   "name": "python3"
  },
  "language_info": {
   "codemirror_mode": {
    "name": "ipython",
    "version": 3
   },
   "file_extension": ".py",
   "mimetype": "text/x-python",
   "name": "python",
   "nbconvert_exporter": "python",
   "pygments_lexer": "ipython3",
   "version": "3.11.5"
  }
 },
 "nbformat": 4,
 "nbformat_minor": 5
}
