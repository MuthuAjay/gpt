{
 "cells": [
  {
   "cell_type": "code",
   "execution_count": 3,
   "id": "1478e48f-f1dc-4fdf-a0b2-864cc1635ad5",
   "metadata": {},
   "outputs": [],
   "source": [
    "import requests\n",
    "r = requests.get(\"https://raw.githubusercontent.com/karpathy/char-rnn/master/data/tinyshakespeare/input.txt\")\n",
    "\n",
    "with open(\"input.txt\", 'wb') as f:\n",
    "    f.write(r.content)"
   ]
  },
  {
   "cell_type": "code",
   "execution_count": 4,
   "id": "ca846012-79c8-4e87-93b9-7702e23b96af",
   "metadata": {},
   "outputs": [],
   "source": [
    "with open(\"input.txt\", 'r', encoding=\"utf-8\") as f:\n",
    "    text = f.read()"
   ]
  },
  {
   "cell_type": "code",
   "execution_count": 9,
   "id": "1e7b7ef6-047b-4f62-8c2b-8903529df05e",
   "metadata": {},
   "outputs": [
    {
     "name": "stdout",
     "output_type": "stream",
     "text": [
      "First Citizen:\n",
      "Before we proceed any further, hear me speak.\n",
      "\n",
      "All:\n",
      "Speak, speak.\n",
      "\n",
      "First Citizen:\n",
      "You\n"
     ]
    }
   ],
   "source": [
    "print(text[:100])"
   ]
  },
  {
   "cell_type": "code",
   "execution_count": 10,
   "id": "9c78aaa5-5420-4732-a0be-83f11ed3305d",
   "metadata": {},
   "outputs": [
    {
     "name": "stdout",
     "output_type": "stream",
     "text": [
      "1115394\n"
     ]
    }
   ],
   "source": [
    "print(len(text))"
   ]
  },
  {
   "cell_type": "code",
   "execution_count": 12,
   "id": "0181466e-fcd2-4860-95c4-60f388957a51",
   "metadata": {},
   "outputs": [
    {
     "name": "stdout",
     "output_type": "stream",
     "text": [
      "\n",
      " !$&',-.3:;?ABCDEFGHIJKLMNOPQRSTUVWXYZabcdefghijklmnopqrstuvwxyz\n",
      "65\n"
     ]
    }
   ],
   "source": [
    "chars = sorted(list(set(text)))\n",
    "vocab_size = len(chars)\n",
    "print(\"\".join(chars))\n",
    "print(vocab_size)"
   ]
  },
  {
   "cell_type": "code",
   "execution_count": 16,
   "id": "faaa1d25-9134-4193-950b-7f1ebc7d80bd",
   "metadata": {},
   "outputs": [
    {
     "name": "stdout",
     "output_type": "stream",
     "text": [
      "[46, 47, 47, 1, 58, 46, 43, 56, 43]\n",
      "hii there\n"
     ]
    }
   ],
   "source": [
    "stoi = {ch:i for i, ch in enumerate(chars)}\n",
    "itos = {i:ch for ch, i in stoi.items()}\n",
    "encode = lambda s: [stoi[c] for c in s]\n",
    "decode = lambda l: \"\".join(itos[i] for i in l)\n",
    "\n",
    "print(encode(\"hii there\"))\n",
    "print(decode(encode(\"hii there\")))"
   ]
  },
  {
   "cell_type": "code",
   "execution_count": 18,
   "id": "cc51411e-bd78-4058-8a7d-ca7a9cae688e",
   "metadata": {},
   "outputs": [
    {
     "name": "stdout",
     "output_type": "stream",
     "text": [
      "torch.Size([1115394]) torch.int64\n",
      "tensor([18, 47, 56, 57, 58,  1, 15, 47, 58, 47, 64, 43, 52, 10,  0, 14, 43, 44,\n",
      "        53, 56, 43,  1, 61, 43,  1, 54, 56, 53, 41, 43, 43, 42,  1, 39, 52, 63,\n",
      "         1, 44, 59, 56, 58, 46, 43, 56,  6,  1, 46, 43, 39, 56,  1, 51, 43,  1,\n",
      "        57, 54, 43, 39, 49,  8,  0,  0, 13, 50, 50, 10,  0, 31, 54, 43, 39, 49,\n",
      "         6,  1, 57, 54, 43, 39, 49,  8,  0,  0, 18, 47, 56, 57, 58,  1, 15, 47,\n",
      "        58, 47, 64, 43, 52, 10,  0, 37, 53, 59])\n"
     ]
    }
   ],
   "source": [
    "import torch\n",
    "data = torch.tensor(encode(text), dtype = torch.long)\n",
    "print(data.shape, data.dtype)\n",
    "print(data[:100])"
   ]
  },
  {
   "cell_type": "code",
   "execution_count": 20,
   "id": "548bdd2f-83cd-4f06-b2c5-7fe784075744",
   "metadata": {},
   "outputs": [],
   "source": [
    "n = int(0.9*len(data))\n",
    "train_data = data[:n]\n",
    "val_data = data[n:]"
   ]
  },
  {
   "cell_type": "code",
   "execution_count": 21,
   "id": "d64a663c-415d-459a-bfd2-4518324937ff",
   "metadata": {},
   "outputs": [
    {
     "data": {
      "text/plain": [
       "tensor([18, 47, 56, 57, 58,  1, 15, 47])"
      ]
     },
     "execution_count": 21,
     "metadata": {},
     "output_type": "execute_result"
    }
   ],
   "source": [
    "block_size = 8\n",
    "train_data[:block_size]"
   ]
  },
  {
   "cell_type": "code",
   "execution_count": 23,
   "id": "7996d21b-3616-4968-9d80-7c33270c0049",
   "metadata": {},
   "outputs": [
    {
     "name": "stdout",
     "output_type": "stream",
     "text": [
      "when input is tensor([18]) the target is 47\n",
      "when input is tensor([18, 47]) the target is 56\n",
      "when input is tensor([18, 47, 56]) the target is 57\n",
      "when input is tensor([18, 47, 56, 57]) the target is 58\n",
      "when input is tensor([18, 47, 56, 57, 58]) the target is 1\n",
      "when input is tensor([18, 47, 56, 57, 58,  1]) the target is 15\n",
      "when input is tensor([18, 47, 56, 57, 58,  1, 15]) the target is 47\n",
      "when input is tensor([18, 47, 56, 57, 58,  1, 15, 47]) the target is 58\n"
     ]
    }
   ],
   "source": [
    "x = train_data[:block_size]\n",
    "y = train_data[1:block_size+1]\n",
    "\n",
    "for t in range(block_size):\n",
    "    context = x[:t+1]\n",
    "    target = y[t]\n",
    "    print(f\"when input is {context} the target is {target}\")"
   ]
  },
  {
   "cell_type": "code",
   "execution_count": 54,
   "id": "ead18d11-df25-47d7-a8ef-408e5d7672c4",
   "metadata": {},
   "outputs": [
    {
     "name": "stdout",
     "output_type": "stream",
     "text": [
      "inputs:\n",
      "torch.Size([4, 8])\n",
      "tensor([[57,  1, 46, 47, 57,  1, 50, 53],\n",
      "        [ 1, 58, 46, 43, 56, 43,  1, 41],\n",
      "        [17, 26, 15, 17, 10,  0, 32, 53],\n",
      "        [57, 58,  6,  1, 61, 47, 58, 46]])\n",
      "targets:\n",
      "torch.Size([4, 8])\n",
      "tensor([[ 1, 46, 47, 57,  1, 50, 53, 60],\n",
      "        [58, 46, 43, 56, 43,  1, 41, 39],\n",
      "        [26, 15, 17, 10,  0, 32, 53,  1],\n",
      "        [58,  6,  1, 61, 47, 58, 46,  0]])\n",
      "----\n",
      "when input is [57] the target: 1\n",
      "when input is [57, 1] the target: 46\n",
      "when input is [57, 1, 46] the target: 47\n",
      "when input is [57, 1, 46, 47] the target: 57\n",
      "when input is [57, 1, 46, 47, 57] the target: 1\n",
      "when input is [57, 1, 46, 47, 57, 1] the target: 50\n",
      "when input is [57, 1, 46, 47, 57, 1, 50] the target: 53\n",
      "when input is [57, 1, 46, 47, 57, 1, 50, 53] the target: 60\n",
      "when input is [1] the target: 58\n",
      "when input is [1, 58] the target: 46\n",
      "when input is [1, 58, 46] the target: 43\n",
      "when input is [1, 58, 46, 43] the target: 56\n",
      "when input is [1, 58, 46, 43, 56] the target: 43\n",
      "when input is [1, 58, 46, 43, 56, 43] the target: 1\n",
      "when input is [1, 58, 46, 43, 56, 43, 1] the target: 41\n",
      "when input is [1, 58, 46, 43, 56, 43, 1, 41] the target: 39\n",
      "when input is [17] the target: 26\n",
      "when input is [17, 26] the target: 15\n",
      "when input is [17, 26, 15] the target: 17\n",
      "when input is [17, 26, 15, 17] the target: 10\n",
      "when input is [17, 26, 15, 17, 10] the target: 0\n",
      "when input is [17, 26, 15, 17, 10, 0] the target: 32\n",
      "when input is [17, 26, 15, 17, 10, 0, 32] the target: 53\n",
      "when input is [17, 26, 15, 17, 10, 0, 32, 53] the target: 1\n",
      "when input is [57] the target: 58\n",
      "when input is [57, 58] the target: 6\n",
      "when input is [57, 58, 6] the target: 1\n",
      "when input is [57, 58, 6, 1] the target: 61\n",
      "when input is [57, 58, 6, 1, 61] the target: 47\n",
      "when input is [57, 58, 6, 1, 61, 47] the target: 58\n",
      "when input is [57, 58, 6, 1, 61, 47, 58] the target: 46\n",
      "when input is [57, 58, 6, 1, 61, 47, 58, 46] the target: 0\n"
     ]
    }
   ],
   "source": [
    "torch.manual_seed(42)\n",
    "batch_size = 4\n",
    "block_size = 8\n",
    "\n",
    "def get_batch(split):\n",
    "    data = train_data if split == \"train\" else val_data\n",
    "    ix = torch.randint(len(data) - block_size, (batch_size,))\n",
    "    x = torch.stack([data[i: i+block_size] for i in ix])\n",
    "    y = torch.stack([data[i+1: i+block_size+1] for i in ix])\n",
    "    return x, y\n",
    "\n",
    "xb, yb = get_batch(\"train\")\n",
    "print('inputs:')\n",
    "print(xb.shape)\n",
    "print(xb)\n",
    "print('targets:')\n",
    "print(yb.shape)\n",
    "print(yb)\n",
    "\n",
    "print('----')\n",
    "\n",
    "for b in range(batch_size):\n",
    "    for t in range(block_size):\n",
    "        context = xb[b, :t+1]\n",
    "        target = yb[b, t]\n",
    "        print(f\"when input is {context.tolist()} the target: {target}\")"
   ]
  },
  {
   "cell_type": "code",
   "execution_count": 55,
   "id": "f5e84354-8056-44e4-9b60-94a180de757f",
   "metadata": {
    "scrolled": true
   },
   "outputs": [
    {
     "name": "stdout",
     "output_type": "stream",
     "text": [
      "torch.Size([32, 65])\n",
      "tensor(4.7013, grad_fn=<NllLossBackward0>)\n",
      "\n",
      "Sr?qP-QWktXoL&jLDJgOLVz'RIoDqHdhsV&vLLxatjscMpwLERSPyao.qfzs$Ys$zF-w,;eEkzxjgCKFChs!iWW.ObzDnxA Ms$3\n"
     ]
    }
   ],
   "source": [
    "import torch\n",
    "import torch.nn as nn\n",
    "import torch.nn.functional as F\n",
    "torch.manual_seed(1337)\n",
    "\n",
    "\n",
    "class BigramLanguageModel(nn.Module):\n",
    "    def __init__(self, vocab_size):\n",
    "        super().__init__()\n",
    "        self.token_embedding_table = nn.Embedding(vocab_size, vocab_size)\n",
    "\n",
    "    def forward(self,idx, targets= None):\n",
    "        logits = self.token_embedding_table(idx)\n",
    "        if targets is None:\n",
    "            loss = None\n",
    "        else:\n",
    "            B,T,C = logits.shape\n",
    "            logits = logits.view(B*T, C)\n",
    "            targets = targets.view(B*T)\n",
    "            loss = F.cross_entropy(logits, targets)\n",
    "        return logits, loss\n",
    "\n",
    "    def generate(self, idx, max_new_tokens):\n",
    "\n",
    "        for _ in range(max_new_tokens):\n",
    "\n",
    "            logits, loss = self(idx)\n",
    "            # print(logits.shape)\n",
    "            logits = logits[:,-1,:]\n",
    "            # print(logits)\n",
    "            probs = F.softmax(logits, dim = -1)\n",
    "            idx_next = torch.multinomial(probs, num_samples=1)\n",
    "            idx = torch.cat((idx, idx_next), dim = 1)\n",
    "\n",
    "        return idx            \n",
    "            \n",
    "\n",
    "m = BigramLanguageModel(vocab_size)\n",
    "logits , loss= m(xb, yb)\n",
    "print(logits.shape)\n",
    "print(loss)\n",
    "\n",
    "idx = torch.zeros((1,1), dtype=torch.long)\n",
    "print(decode(m.generate(idx = torch.zeros((1,1), dtype=torch.long), max_new_tokens=100)[0].tolist()))\n"
   ]
  },
  {
   "cell_type": "code",
   "execution_count": 56,
   "id": "4f7a5959-7a83-4402-81a1-d784fd88807c",
   "metadata": {},
   "outputs": [],
   "source": [
    "optimizer = torch.optim.AdamW(m.parameters(), lr = 1e-3)"
   ]
  },
  {
   "cell_type": "code",
   "execution_count": 58,
   "id": "84e7eef3-4e07-4211-9218-b8a4c6cffef6",
   "metadata": {
    "scrolled": true
   },
   "outputs": [
    {
     "name": "stdout",
     "output_type": "stream",
     "text": [
      "2.4987683296203613\n"
     ]
    }
   ],
   "source": [
    "batch_size = 32\n",
    "for step in range(10000):\n",
    "    xb, yb = get_batch(\"train\")\n",
    "\n",
    "    logits, loss = m(xb, yb)\n",
    "    optimzier.zero_grad(set_to_none=True)\n",
    "    loss.backward()\n",
    "    optimizer.step()\n",
    "\n",
    "print(loss.item())\n"
   ]
  },
  {
   "cell_type": "code",
   "execution_count": 60,
   "id": "0e85db8e-86c7-470b-ae94-5f37f04fd911",
   "metadata": {
    "scrolled": true
   },
   "outputs": [
    {
     "name": "stdout",
     "output_type": "stream",
     "text": [
      "\n",
      "\n",
      "Awiuandecasthaforo nont\n",
      "SLO:\n",
      "Ange ive nn I ou m,\n",
      "UCENThean,'sbet bar l\n",
      "TEENTher, d SThathon tsous min'd ne st wousis s lingilo whee,\n",
      "K:\n",
      "Toowne's,\n",
      "D:\n",
      "NGLEO:\n",
      "Nea we! ase may sin ceecate.\n",
      "GHin d\n",
      "Aw ht hongur vet th My, tonches s ousour wes o be angaleatiminthafe atnt ur whis feand ay out sitourdy sper cugntingrr,\n",
      "Ay tofed werore mo d htrelden ise se inon ime weagsone the kene gis s ower ishentenor ieme-ndsthouge t bl d mond y scad cofomy ty an,\n",
      "Gore n's onendes htheave d iref LAR:\n",
      "Whabeathe winini\n"
     ]
    }
   ],
   "source": [
    "print(decode(m.generate(idx = torch.zeros((1,1), dtype=torch.long), max_new_tokens=500)[0].tolist())) "
   ]
  },
  {
   "cell_type": "code",
   "execution_count": 61,
   "id": "f502d912-2331-4e4a-86c0-e139c0c5944d",
   "metadata": {},
   "outputs": [
    {
     "data": {
      "text/plain": [
       "torch.Size([4, 8, 2])"
      ]
     },
     "execution_count": 61,
     "metadata": {},
     "output_type": "execute_result"
    }
   ],
   "source": [
    "# consider the following toy example:\n",
    "\n",
    "torch.manual_seed(1337)\n",
    "B,T,C = 4,8,2 # batch, time, channels\n",
    "x = torch.randn(B,T,C)\n",
    "x.shape"
   ]
  },
  {
   "cell_type": "code",
   "execution_count": 67,
   "id": "43a1feae-af47-48fb-b032-4ab7e4a78619",
   "metadata": {},
   "outputs": [
    {
     "data": {
      "text/plain": [
       "tensor([[[ 0.1808, -0.0700],\n",
       "         [-0.3596, -0.9152],\n",
       "         [ 0.6258,  0.0255],\n",
       "         [ 0.9545,  0.0643],\n",
       "         [ 0.3612,  1.1679],\n",
       "         [-1.3499, -0.5102],\n",
       "         [ 0.2360, -0.2398],\n",
       "         [-0.9211,  1.5433]],\n",
       "\n",
       "        [[ 1.3488, -0.1396],\n",
       "         [ 0.2858,  0.9651],\n",
       "         [-2.0371,  0.4931],\n",
       "         [ 1.4870,  0.5910],\n",
       "         [ 0.1260, -1.5627],\n",
       "         [-1.1601, -0.3348],\n",
       "         [ 0.4478, -0.8016],\n",
       "         [ 1.5236,  2.5086]],\n",
       "\n",
       "        [[-0.6631, -0.2513],\n",
       "         [ 1.0101,  0.1215],\n",
       "         [ 0.1584,  1.1340],\n",
       "         [-1.1539, -0.2984],\n",
       "         [-0.5075, -0.9239],\n",
       "         [ 0.5467, -1.4948],\n",
       "         [-1.2057,  0.5718],\n",
       "         [-0.5974, -0.6937]],\n",
       "\n",
       "        [[ 1.6455, -0.8030],\n",
       "         [ 1.3514, -0.2759],\n",
       "         [-1.5108,  2.1048],\n",
       "         [ 2.7630, -1.7465],\n",
       "         [ 1.4516, -1.5103],\n",
       "         [ 0.8212, -0.2115],\n",
       "         [ 0.7789,  1.5333],\n",
       "         [ 1.6097, -0.4032]]])"
      ]
     },
     "execution_count": 67,
     "metadata": {},
     "output_type": "execute_result"
    }
   ],
   "source": [
    "x"
   ]
  },
  {
   "cell_type": "code",
   "execution_count": 81,
   "id": "fd827ab0-30d8-4a4a-b47e-d9861076e29c",
   "metadata": {},
   "outputs": [
    {
     "name": "stdout",
     "output_type": "stream",
     "text": [
      "tensor([[ 0.1808, -0.0700]])\n",
      "tensor([[ 0.1808, -0.0700],\n",
      "        [-0.3596, -0.9152]])\n",
      "tensor([[ 0.1808, -0.0700],\n",
      "        [-0.3596, -0.9152],\n",
      "        [ 0.6258,  0.0255]])\n",
      "tensor([[ 0.1808, -0.0700],\n",
      "        [-0.3596, -0.9152],\n",
      "        [ 0.6258,  0.0255],\n",
      "        [ 0.9545,  0.0643]])\n",
      "tensor([[ 0.1808, -0.0700],\n",
      "        [-0.3596, -0.9152],\n",
      "        [ 0.6258,  0.0255],\n",
      "        [ 0.9545,  0.0643],\n",
      "        [ 0.3612,  1.1679]])\n",
      "tensor([[ 0.1808, -0.0700],\n",
      "        [-0.3596, -0.9152],\n",
      "        [ 0.6258,  0.0255],\n",
      "        [ 0.9545,  0.0643],\n",
      "        [ 0.3612,  1.1679],\n",
      "        [-1.3499, -0.5102]])\n",
      "tensor([[ 0.1808, -0.0700],\n",
      "        [-0.3596, -0.9152],\n",
      "        [ 0.6258,  0.0255],\n",
      "        [ 0.9545,  0.0643],\n",
      "        [ 0.3612,  1.1679],\n",
      "        [-1.3499, -0.5102],\n",
      "        [ 0.2360, -0.2398]])\n",
      "tensor([[ 0.1808, -0.0700],\n",
      "        [-0.3596, -0.9152],\n",
      "        [ 0.6258,  0.0255],\n",
      "        [ 0.9545,  0.0643],\n",
      "        [ 0.3612,  1.1679],\n",
      "        [-1.3499, -0.5102],\n",
      "        [ 0.2360, -0.2398],\n",
      "        [-0.9211,  1.5433]])\n",
      "tensor([[ 1.3488, -0.1396]])\n",
      "tensor([[ 1.3488, -0.1396],\n",
      "        [ 0.2858,  0.9651]])\n",
      "tensor([[ 1.3488, -0.1396],\n",
      "        [ 0.2858,  0.9651],\n",
      "        [-2.0371,  0.4931]])\n",
      "tensor([[ 1.3488, -0.1396],\n",
      "        [ 0.2858,  0.9651],\n",
      "        [-2.0371,  0.4931],\n",
      "        [ 1.4870,  0.5910]])\n",
      "tensor([[ 1.3488, -0.1396],\n",
      "        [ 0.2858,  0.9651],\n",
      "        [-2.0371,  0.4931],\n",
      "        [ 1.4870,  0.5910],\n",
      "        [ 0.1260, -1.5627]])\n",
      "tensor([[ 1.3488, -0.1396],\n",
      "        [ 0.2858,  0.9651],\n",
      "        [-2.0371,  0.4931],\n",
      "        [ 1.4870,  0.5910],\n",
      "        [ 0.1260, -1.5627],\n",
      "        [-1.1601, -0.3348]])\n",
      "tensor([[ 1.3488, -0.1396],\n",
      "        [ 0.2858,  0.9651],\n",
      "        [-2.0371,  0.4931],\n",
      "        [ 1.4870,  0.5910],\n",
      "        [ 0.1260, -1.5627],\n",
      "        [-1.1601, -0.3348],\n",
      "        [ 0.4478, -0.8016]])\n",
      "tensor([[ 1.3488, -0.1396],\n",
      "        [ 0.2858,  0.9651],\n",
      "        [-2.0371,  0.4931],\n",
      "        [ 1.4870,  0.5910],\n",
      "        [ 0.1260, -1.5627],\n",
      "        [-1.1601, -0.3348],\n",
      "        [ 0.4478, -0.8016],\n",
      "        [ 1.5236,  2.5086]])\n",
      "tensor([[-0.6631, -0.2513]])\n",
      "tensor([[-0.6631, -0.2513],\n",
      "        [ 1.0101,  0.1215]])\n",
      "tensor([[-0.6631, -0.2513],\n",
      "        [ 1.0101,  0.1215],\n",
      "        [ 0.1584,  1.1340]])\n",
      "tensor([[-0.6631, -0.2513],\n",
      "        [ 1.0101,  0.1215],\n",
      "        [ 0.1584,  1.1340],\n",
      "        [-1.1539, -0.2984]])\n",
      "tensor([[-0.6631, -0.2513],\n",
      "        [ 1.0101,  0.1215],\n",
      "        [ 0.1584,  1.1340],\n",
      "        [-1.1539, -0.2984],\n",
      "        [-0.5075, -0.9239]])\n",
      "tensor([[-0.6631, -0.2513],\n",
      "        [ 1.0101,  0.1215],\n",
      "        [ 0.1584,  1.1340],\n",
      "        [-1.1539, -0.2984],\n",
      "        [-0.5075, -0.9239],\n",
      "        [ 0.5467, -1.4948]])\n",
      "tensor([[-0.6631, -0.2513],\n",
      "        [ 1.0101,  0.1215],\n",
      "        [ 0.1584,  1.1340],\n",
      "        [-1.1539, -0.2984],\n",
      "        [-0.5075, -0.9239],\n",
      "        [ 0.5467, -1.4948],\n",
      "        [-1.2057,  0.5718]])\n",
      "tensor([[-0.6631, -0.2513],\n",
      "        [ 1.0101,  0.1215],\n",
      "        [ 0.1584,  1.1340],\n",
      "        [-1.1539, -0.2984],\n",
      "        [-0.5075, -0.9239],\n",
      "        [ 0.5467, -1.4948],\n",
      "        [-1.2057,  0.5718],\n",
      "        [-0.5974, -0.6937]])\n",
      "tensor([[ 1.6455, -0.8030]])\n",
      "tensor([[ 1.6455, -0.8030],\n",
      "        [ 1.3514, -0.2759]])\n",
      "tensor([[ 1.6455, -0.8030],\n",
      "        [ 1.3514, -0.2759],\n",
      "        [-1.5108,  2.1048]])\n",
      "tensor([[ 1.6455, -0.8030],\n",
      "        [ 1.3514, -0.2759],\n",
      "        [-1.5108,  2.1048],\n",
      "        [ 2.7630, -1.7465]])\n",
      "tensor([[ 1.6455, -0.8030],\n",
      "        [ 1.3514, -0.2759],\n",
      "        [-1.5108,  2.1048],\n",
      "        [ 2.7630, -1.7465],\n",
      "        [ 1.4516, -1.5103]])\n",
      "tensor([[ 1.6455, -0.8030],\n",
      "        [ 1.3514, -0.2759],\n",
      "        [-1.5108,  2.1048],\n",
      "        [ 2.7630, -1.7465],\n",
      "        [ 1.4516, -1.5103],\n",
      "        [ 0.8212, -0.2115]])\n",
      "tensor([[ 1.6455, -0.8030],\n",
      "        [ 1.3514, -0.2759],\n",
      "        [-1.5108,  2.1048],\n",
      "        [ 2.7630, -1.7465],\n",
      "        [ 1.4516, -1.5103],\n",
      "        [ 0.8212, -0.2115],\n",
      "        [ 0.7789,  1.5333]])\n",
      "tensor([[ 1.6455, -0.8030],\n",
      "        [ 1.3514, -0.2759],\n",
      "        [-1.5108,  2.1048],\n",
      "        [ 2.7630, -1.7465],\n",
      "        [ 1.4516, -1.5103],\n",
      "        [ 0.8212, -0.2115],\n",
      "        [ 0.7789,  1.5333],\n",
      "        [ 1.6097, -0.4032]])\n"
     ]
    }
   ],
   "source": [
    "xbow = torch.zeros((B,T,C))\n",
    "for b in range(B):\n",
    "     for t in range(T):\n",
    "         xprev = x[b, :t+1]\n",
    "         print(xprev)\n",
    "         xbow[b,t] = torch.mean(xprev, 0)"
   ]
  },
  {
   "cell_type": "code",
   "execution_count": 66,
   "id": "0f132ed8-16cb-4404-9de1-20a7a1f7a19f",
   "metadata": {},
   "outputs": [
    {
     "data": {
      "text/plain": [
       "tensor([[[ 0.1808, -0.0700],\n",
       "         [-0.0894, -0.4926],\n",
       "         [ 0.1490, -0.3199],\n",
       "         [ 0.3504, -0.2238],\n",
       "         [ 0.3525,  0.0545],\n",
       "         [ 0.0688, -0.0396],\n",
       "         [ 0.0927, -0.0682],\n",
       "         [-0.0341,  0.1332]],\n",
       "\n",
       "        [[ 1.3488, -0.1396],\n",
       "         [ 0.8173,  0.4127],\n",
       "         [-0.1342,  0.4395],\n",
       "         [ 0.2711,  0.4774],\n",
       "         [ 0.2421,  0.0694],\n",
       "         [ 0.0084,  0.0020],\n",
       "         [ 0.0712, -0.1128],\n",
       "         [ 0.2527,  0.2149]],\n",
       "\n",
       "        [[-0.6631, -0.2513],\n",
       "         [ 0.1735, -0.0649],\n",
       "         [ 0.1685,  0.3348],\n",
       "         [-0.1621,  0.1765],\n",
       "         [-0.2312, -0.0436],\n",
       "         [-0.1015, -0.2855],\n",
       "         [-0.2593, -0.1630],\n",
       "         [-0.3015, -0.2293]],\n",
       "\n",
       "        [[ 1.6455, -0.8030],\n",
       "         [ 1.4985, -0.5395],\n",
       "         [ 0.4954,  0.3420],\n",
       "         [ 1.0623, -0.1802],\n",
       "         [ 1.1401, -0.4462],\n",
       "         [ 1.0870, -0.4071],\n",
       "         [ 1.0430, -0.1299],\n",
       "         [ 1.1138, -0.1641]]])"
      ]
     },
     "execution_count": 66,
     "metadata": {},
     "output_type": "execute_result"
    }
   ],
   "source": [
    "xbow"
   ]
  },
  {
   "cell_type": "code",
   "execution_count": 73,
   "id": "1e593a3f-5b6d-4bda-baa2-c1810e414472",
   "metadata": {},
   "outputs": [
    {
     "data": {
      "text/plain": [
       "tensor([-0.0894, -0.4926])"
      ]
     },
     "execution_count": 73,
     "metadata": {},
     "output_type": "execute_result"
    }
   ],
   "source": [
    "torch.tensor([[ 0.1808, -0.0700],\n",
    "        [-0.3596, -0.9152]]).mean(dim = 0)"
   ]
  },
  {
   "cell_type": "code",
   "execution_count": 74,
   "id": "11c52d65-ff91-468d-abd3-c75076a5dc15",
   "metadata": {},
   "outputs": [
    {
     "data": {
      "text/plain": [
       "-0.0894"
      ]
     },
     "execution_count": 74,
     "metadata": {},
     "output_type": "execute_result"
    }
   ],
   "source": [
    "(0.1808-0.3596)/2"
   ]
  },
  {
   "cell_type": "code",
   "execution_count": 82,
   "id": "dc0aec5d-6819-43fc-839e-a22705a8a9f8",
   "metadata": {},
   "outputs": [
    {
     "data": {
      "text/plain": [
       "False"
      ]
     },
     "execution_count": 82,
     "metadata": {},
     "output_type": "execute_result"
    }
   ],
   "source": [
    "torch.manual_seed(1337)\n",
    "wei = torch.tril(torch.ones(T,T))\n",
    "wei = wei/ wei.sum(1, keepdim = True)\n",
    "xbow2 = wei @ x\n",
    "torch.allclose(xbow, xbow2)"
   ]
  },
  {
   "cell_type": "code",
   "execution_count": 85,
   "id": "00748319-ee93-40b6-88a2-509f5c9149f9",
   "metadata": {
    "scrolled": true
   },
   "outputs": [
    {
     "data": {
      "text/plain": [
       "(tensor([[ 0.1808, -0.0700],\n",
       "         [-0.0894, -0.4926],\n",
       "         [ 0.1490, -0.3199],\n",
       "         [ 0.3504, -0.2238],\n",
       "         [ 0.3525,  0.0545],\n",
       "         [ 0.0688, -0.0396],\n",
       "         [ 0.0927, -0.0682],\n",
       "         [-0.0341,  0.1332]]),\n",
       " tensor([[ 0.1808, -0.0700],\n",
       "         [-0.0894, -0.4926],\n",
       "         [ 0.1490, -0.3199],\n",
       "         [ 0.3504, -0.2238],\n",
       "         [ 0.3525,  0.0545],\n",
       "         [ 0.0688, -0.0396],\n",
       "         [ 0.0927, -0.0682],\n",
       "         [-0.0341,  0.1332]]))"
      ]
     },
     "execution_count": 85,
     "metadata": {},
     "output_type": "execute_result"
    }
   ],
   "source": [
    "xbow2[0] , xbow[0]"
   ]
  },
  {
   "cell_type": "code",
   "execution_count": 86,
   "id": "93515fbb-c28c-4cda-9705-578558ff9fe9",
   "metadata": {},
   "outputs": [
    {
     "data": {
      "text/plain": [
       "tensor([[ True,  True],\n",
       "        [ True,  True],\n",
       "        [ True, False],\n",
       "        [ True,  True],\n",
       "        [ True, False],\n",
       "        [False,  True],\n",
       "        [False, False],\n",
       "        [ True,  True]])"
      ]
     },
     "execution_count": 86,
     "metadata": {},
     "output_type": "execute_result"
    }
   ],
   "source": [
    "xbow2[0] == xbow[0]"
   ]
  },
  {
   "cell_type": "code",
   "execution_count": 91,
   "id": "c3033d80-032a-414c-998a-2b39d661492e",
   "metadata": {},
   "outputs": [
    {
     "data": {
      "text/plain": [
       "False"
      ]
     },
     "execution_count": 91,
     "metadata": {},
     "output_type": "execute_result"
    }
   ],
   "source": [
    "tril = torch.tril(torch.ones(T,T))\n",
    "wei = torch.zeros((T,T))\n",
    "wei = wei.masked_fill(tril==0, float('-inf'))\n",
    "wei = F.softmax(wei, dim = -1)\n",
    "xbow3 = wei @ x\n",
    "torch.allclose(xbow, xbow3)"
   ]
  },
  {
   "cell_type": "code",
   "execution_count": 88,
   "id": "2bac9457-d2c5-4b38-a8c5-e02549c7ed66",
   "metadata": {},
   "outputs": [
    {
     "data": {
      "text/plain": [
       "(tensor([[ 0.1808, -0.0700],\n",
       "         [-0.0894, -0.4926],\n",
       "         [ 0.1490, -0.3199],\n",
       "         [ 0.3504, -0.2238],\n",
       "         [ 0.3525,  0.0545],\n",
       "         [ 0.0688, -0.0396],\n",
       "         [ 0.0927, -0.0682],\n",
       "         [-0.0341,  0.1332]]),\n",
       " tensor([[ 0.1808, -0.0700],\n",
       "         [-0.0894, -0.4926],\n",
       "         [ 0.1490, -0.3199],\n",
       "         [ 0.3504, -0.2238],\n",
       "         [ 0.3525,  0.0545],\n",
       "         [ 0.0688, -0.0396],\n",
       "         [ 0.0927, -0.0682],\n",
       "         [-0.0341,  0.1332]]))"
      ]
     },
     "execution_count": 88,
     "metadata": {},
     "output_type": "execute_result"
    }
   ],
   "source": [
    "xbow[0], xbow3[0]"
   ]
  },
  {
   "cell_type": "code",
   "execution_count": 89,
   "id": "8e62e053-4ca0-4fde-b608-58faf4581e93",
   "metadata": {},
   "outputs": [
    {
     "data": {
      "text/plain": [
       "tensor([[ True,  True],\n",
       "        [ True,  True],\n",
       "        [ True, False],\n",
       "        [ True,  True],\n",
       "        [ True, False],\n",
       "        [False,  True],\n",
       "        [False, False],\n",
       "        [ True,  True]])"
      ]
     },
     "execution_count": 89,
     "metadata": {},
     "output_type": "execute_result"
    }
   ],
   "source": [
    "xbow3[0] == xbow[0]"
   ]
  },
  {
   "cell_type": "code",
   "execution_count": 92,
   "id": "5ef7ce55-70e2-476d-b752-f08dcd06432a",
   "metadata": {},
   "outputs": [
    {
     "data": {
      "text/plain": [
       "tensor([-0.6652, -0.3416, -0.7056, -0.5779, -0.4542,  0.0185,  0.4737, -0.2473,\n",
       "        -0.4146,  0.3845], grad_fn=<ViewBackward0>)"
      ]
     },
     "execution_count": 92,
     "metadata": {},
     "output_type": "execute_result"
    }
   ],
   "source": [
    "li = nn.Linear(3,10)\n"
   ]
  },
  {
   "cell_type": "code",
   "execution_count": 95,
   "id": "d64c41f7-a020-4098-b2fa-10805bc8a526",
   "metadata": {},
   "outputs": [
    {
     "data": {
      "text/plain": [
       "torch.Size([1, 3])"
      ]
     },
     "execution_count": 95,
     "metadata": {},
     "output_type": "execute_result"
    }
   ],
   "source": [
    "a = torch.randn((1,3))\n",
    "a.shape"
   ]
  },
  {
   "cell_type": "code",
   "execution_count": 97,
   "id": "8ce3ff13-df49-4c66-91f1-dfb66fd7244f",
   "metadata": {},
   "outputs": [
    {
     "data": {
      "text/plain": [
       "torch.Size([10, 3])"
      ]
     },
     "execution_count": 97,
     "metadata": {},
     "output_type": "execute_result"
    }
   ],
   "source": [
    "li.weight.shape"
   ]
  },
  {
   "cell_type": "code",
   "execution_count": 96,
   "id": "86f8af7f-5c4b-483e-81c4-c966259f67c8",
   "metadata": {},
   "outputs": [
    {
     "data": {
      "text/plain": [
       "tensor([[-1.1543, -1.7912, -0.1944, -0.1563,  0.1138,  0.1615,  0.4778,  1.2171,\n",
       "         -0.0745,  1.1344]], grad_fn=<AddmmBackward0>)"
      ]
     },
     "execution_count": 96,
     "metadata": {},
     "output_type": "execute_result"
    }
   ],
   "source": [
    "li(a)"
   ]
  },
  {
   "cell_type": "code",
   "execution_count": 101,
   "id": "fce26b96-c4ee-4c39-bd60-978d1bf00328",
   "metadata": {},
   "outputs": [
    {
     "data": {
      "text/plain": [
       "tensor([[-1.4795e-31,  2.8026e-45,  1.7937e-43,  1.2612e-43,  9.8091e-44,\n",
       "          0.0000e+00,  1.1631e-43,  3.7835e-44,  1.2752e-43,  1.0370e-43]])"
      ]
     },
     "execution_count": 101,
     "metadata": {},
     "output_type": "execute_result"
    }
   ],
   "source": [
    "a @ torch.Tensor(torch.Size([10, 3])).T"
   ]
  },
  {
   "cell_type": "code",
   "execution_count": null,
   "id": "e2555b5e-7999-45c6-96bc-a2f2db31b8a2",
   "metadata": {},
   "outputs": [],
   "source": []
  }
 ],
 "metadata": {
  "kernelspec": {
   "display_name": "Python 3 (ipykernel)",
   "language": "python",
   "name": "python3"
  },
  "language_info": {
   "codemirror_mode": {
    "name": "ipython",
    "version": 3
   },
   "file_extension": ".py",
   "mimetype": "text/x-python",
   "name": "python",
   "nbconvert_exporter": "python",
   "pygments_lexer": "ipython3",
   "version": "3.11.7"
  }
 },
 "nbformat": 4,
 "nbformat_minor": 5
}
