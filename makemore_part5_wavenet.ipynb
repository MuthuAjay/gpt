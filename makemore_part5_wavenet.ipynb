{
 "cells": [
  {
   "cell_type": "code",
   "execution_count": 1,
   "id": "ffdec966-f4bd-4abf-b1e4-d03d53fab190",
   "metadata": {},
   "outputs": [],
   "source": [
    "import torch\n",
    "import torch.nn.functional as F\n",
    "import matplotlib.pyplot as plt # for making figures\n",
    "%matplotlib inline"
   ]
  },
  {
   "cell_type": "code",
   "execution_count": 2,
   "id": "1689a953-122a-4833-b962-ad6d19fd41bf",
   "metadata": {},
   "outputs": [],
   "source": [
    "import requests\n",
    "from pathlib import Path\n",
    "\n",
    "if Path('names.txt').exists():\n",
    "    words = open('names.txt', 'r').read().splitlines()\n",
    "else:\n",
    "    req = requests.get(r'https://raw.githubusercontent.com/karpathy/makemore/master/names.txt')\n",
    "    \n",
    "    with open('names.txt', 'wb') as f:\n",
    "        f.write(req.content)\n",
    "    words = open('names.txt','r').read().splitlines()"
   ]
  },
  {
   "cell_type": "code",
   "execution_count": 3,
   "id": "b1557716-5646-4812-8f2d-c886b0d6ad2e",
   "metadata": {},
   "outputs": [
    {
     "name": "stdout",
     "output_type": "stream",
     "text": [
      "{1: 'a', 2: 'b', 3: 'c', 4: 'd', 5: 'e', 6: 'f', 7: 'g', 8: 'h', 9: 'i', 10: 'j', 11: 'k', 12: 'l', 13: 'm', 14: 'n', 15: 'o', 16: 'p', 17: 'q', 18: 'r', 19: 's', 20: 't', 21: 'u', 22: 'v', 23: 'w', 24: 'x', 25: 'y', 26: 'z', 0: '.'}\n",
      "27\n"
     ]
    }
   ],
   "source": [
    "# build the vocabulary of characters and mappings to/from integers\n",
    "chars = sorted(list(set(''.join(words))))\n",
    "stoi = {s:i+1 for i,s in enumerate(chars)}\n",
    "stoi['.'] = 0\n",
    "itos = {i:s for s,i in stoi.items()}\n",
    "vocab_size = len(itos)\n",
    "print(itos)\n",
    "print(vocab_size)"
   ]
  },
  {
   "cell_type": "code",
   "execution_count": 4,
   "id": "1ad43269-e67a-412f-bd42-4847c1d20538",
   "metadata": {},
   "outputs": [],
   "source": [
    "# shuffle up the words\n",
    "import random\n",
    "random.seed(42)\n",
    "random.shuffle(words)"
   ]
  },
  {
   "cell_type": "code",
   "execution_count": 5,
   "id": "b16454a0-2f6b-460f-a244-626a84a23710",
   "metadata": {},
   "outputs": [
    {
     "name": "stdout",
     "output_type": "stream",
     "text": [
      "torch.Size([182580, 3]) torch.Size([182580])\n",
      "torch.Size([22767, 3]) torch.Size([22767])\n",
      "torch.Size([22799, 3]) torch.Size([22799])\n"
     ]
    }
   ],
   "source": [
    "# build the dataset\n",
    "block_size = 3 # context length: how many characters do we take to predict the next one?\n",
    "\n",
    "def build_dataset(words):  \n",
    "  X, Y = [], []\n",
    "  \n",
    "  for w in words:\n",
    "    context = [0] * block_size\n",
    "    for ch in w + '.':\n",
    "      ix = stoi[ch]\n",
    "      X.append(context)\n",
    "      Y.append(ix)\n",
    "      context = context[1:] + [ix] # crop and append\n",
    "\n",
    "  X = torch.tensor(X)\n",
    "  Y = torch.tensor(Y)\n",
    "  print(X.shape, Y.shape)\n",
    "  return X, Y\n",
    "\n",
    "import random\n",
    "random.seed(42)\n",
    "random.shuffle(words)\n",
    "n1 = int(0.8*len(words))\n",
    "n2 = int(0.9*len(words))\n",
    "\n",
    "Xtr,  Ytr  = build_dataset(words[:n1])     # 80%\n",
    "Xdev, Ydev = build_dataset(words[n1:n2])   # 10%\n",
    "Xte,  Yte  = build_dataset(words[n2:])     # 10%"
   ]
  },
  {
   "cell_type": "code",
   "execution_count": 6,
   "id": "326a6491-cb2b-42db-a91c-3c50e8a94d98",
   "metadata": {},
   "outputs": [
    {
     "name": "stdout",
     "output_type": "stream",
     "text": [
      "... --> e\n",
      "..e --> b\n",
      ".eb --> r\n",
      "ebr --> i\n",
      "bri --> m\n",
      "rim --> a\n",
      "ima --> .\n",
      "... --> h\n",
      "..h --> i\n",
      ".hi --> l\n",
      "hil --> t\n",
      "ilt --> o\n",
      "lto --> n\n",
      "ton --> .\n",
      "... --> j\n",
      "..j --> h\n",
      ".jh --> e\n",
      "jhe --> n\n",
      "hen --> e\n",
      "ene --> .\n"
     ]
    }
   ],
   "source": [
    "for x,y in zip(Xtr[:20], Ytr[:20]):\n",
    "  print(''.join(itos[ix.item()] for ix in x), '-->', itos[y.item()])"
   ]
  },
  {
   "cell_type": "code",
   "execution_count": 21,
   "id": "56b195d6-642a-4620-9e50-0b34e01a6ee9",
   "metadata": {},
   "outputs": [
    {
     "data": {
      "text/plain": [
       "tensor([[[[9, 5, 7],\n",
       "          [6, 2, 9],\n",
       "          [6, 1, 3]],\n",
       "\n",
       "         [[5, 8, 4],\n",
       "          [4, 3, 5],\n",
       "          [8, 3, 1]]],\n",
       "\n",
       "\n",
       "        [[[2, 7, 9],\n",
       "          [5, 1, 6],\n",
       "          [3, 5, 7]],\n",
       "\n",
       "         [[8, 9, 5],\n",
       "          [9, 4, 2],\n",
       "          [5, 2, 2]]]])"
      ]
     },
     "execution_count": 21,
     "metadata": {},
     "output_type": "execute_result"
    }
   ],
   "source": [
    "x = torch.randint(1,10, (2,2,3,3))\n",
    "x"
   ]
  },
  {
   "cell_type": "code",
   "execution_count": 23,
   "id": "2a7afbaf-a2ae-4753-86e2-b38a69c9f229",
   "metadata": {},
   "outputs": [
    {
     "data": {
      "text/plain": [
       "(tensor([[[[11, 12, 16],\n",
       "           [11,  3, 15],\n",
       "           [ 9,  6, 10]],\n",
       " \n",
       "          [[13, 17,  9],\n",
       "           [13,  7,  7],\n",
       "           [13,  5,  3]]]]),\n",
       " tensor([[[14, 13, 11],\n",
       "          [10,  5, 14],\n",
       "          [14,  4,  4]],\n",
       " \n",
       "         [[10, 16, 14],\n",
       "          [14,  5,  8],\n",
       "          [ 8,  7,  9]]]))"
      ]
     },
     "execution_count": 23,
     "metadata": {},
     "output_type": "execute_result"
    }
   ],
   "source": [
    "x.sum(0, keepdim=True), x.sum(1)"
   ]
  },
  {
   "cell_type": "code",
   "execution_count": 7,
   "id": "1ec6604c-d8ef-4b72-9d64-44cfb01dcc85",
   "metadata": {},
   "outputs": [],
   "source": [
    "#Near Copy paste of part 3 notebook\n",
    "\n",
    "#Linear Layer\n",
    "class Linear:\n",
    "    def __init__(self,\n",
    "                fan_in: int,\n",
    "                fan_out: int,\n",
    "                bias = True):\n",
    "        \n",
    "        self.weight = torch.randn((fan_in, fan_out)) // fan_in ** 0.5  #note kaiming init\n",
    "        self.bias = torch.zeros(fan_out) if bias else None\n",
    "\n",
    "    def __call__(self,\n",
    "               x:torch.Tensor):\n",
    "        self.out = x @ self.weight\n",
    "        if self.bias is not None:\n",
    "            self.out += self.bias\n",
    "        return self.out\n",
    "\n",
    "    def parameters(self):\n",
    "        return [self.weight] + ([] if self.bias is None else [self.bias])\n",
    "\n",
    "#Batch Normalisation Layer\n",
    "\n",
    "class BatchNorm1d:\n",
    "\n",
    "    def __init__(self,\n",
    "                dim: int,\n",
    "                eps: int|float = 1e-5,\n",
    "                momentum: int|float = 0.1):\n",
    "        self.eps = eps\n",
    "        self.momentum = momentum\n",
    "        self.training = True\n",
    "        #parameters\n",
    "        self.gamma = torch.ones(dim)\n",
    "        self.beta = torch.zeros(dim)\n",
    "        #buffers \n",
    "        self.running_mean = torch.zeros(dim)\n",
    "        self.running_var = torch.ones(dim)\n",
    "    \n",
    "    def __call__(self,\n",
    "                x: torch.Tensor):\n",
    "\n",
    "        #calculate the forward pass\n",
    "        if self.training:\n",
    "            xmean = x.mean(0,keepdims= True)\n",
    "            xvar = x.var(0, keepdims = True)\n",
    "        else:\n",
    "            xmean = self.running_mean\n",
    "            xvar = self.running_var\n",
    "\n",
    "        xhat = (x - xmean) /torch.sqrt(xvar + self.eps) #normalise to unit variance\n",
    "        self.out = self.gamma * xhat + self.beta\n",
    "\n",
    "        #Update the buffers\n",
    "        if self.training:\n",
    "            with torch.no_grad():\n",
    "                self.running_mean = (1 - self.momentum) * self.running_mean + self.momentum * xmean\n",
    "                self.running_var = (1 - self.momentum) * self.running_var + self.momentum * xvar\n",
    "        \n",
    "        return self.out\n",
    "\n",
    "    def parameters(self):\n",
    "        return [self.gamma, self.beta]\n",
    "\n",
    "#Activation Layer\n",
    "class Tanh:\n",
    "    def __call__(self,\n",
    "                 x:torch.Tensor):\n",
    "        self.out = torch.tanh(x)\n",
    "        return self.out\n",
    "    def parameters(self):\n",
    "        return []\n",
    "        \n",
    "    \n",
    "        "
   ]
  },
  {
   "cell_type": "code",
   "execution_count": 30,
   "id": "5f6d3c37-b4b5-412a-bd5c-aaf0f0dada1c",
   "metadata": {},
   "outputs": [
    {
     "data": {
      "text/plain": [
       "tensor([ 0,  0, 25])"
      ]
     },
     "execution_count": 30,
     "metadata": {},
     "output_type": "execute_result"
    }
   ],
   "source": [
    "Xtr[1]"
   ]
  },
  {
   "cell_type": "code",
   "execution_count": 57,
   "id": "9b890af6-cf5b-4638-b345-9e71141b0538",
   "metadata": {},
   "outputs": [
    {
     "data": {
      "text/plain": [
       "(tensor([[[-1.8347,  1.3372,  0.0435,  0.9037, -2.3000, -1.8546, -0.3708,\n",
       "            0.8617, -0.0815, -0.5283],\n",
       "          [-1.8347,  1.3372,  0.0435,  0.9037, -2.3000, -1.8546, -0.3708,\n",
       "            0.8617, -0.0815, -0.5283],\n",
       "          [-1.8072,  0.1095, -1.2750, -2.9810, -0.6617, -0.9872,  0.7357,\n",
       "           -1.1467, -0.2426, -0.3318]],\n",
       " \n",
       "         [[-1.8347,  1.3372,  0.0435,  0.9037, -2.3000, -1.8546, -0.3708,\n",
       "            0.8617, -0.0815, -0.5283],\n",
       "          [-1.8072,  0.1095, -1.2750, -2.9810, -0.6617, -0.9872,  0.7357,\n",
       "           -1.1467, -0.2426, -0.3318],\n",
       "          [-0.2959,  1.2889,  0.0446,  0.9098, -0.0984, -1.0908, -1.2545,\n",
       "            0.6205, -0.6505, -0.6958]]]),\n",
       " tensor([[-1.8347,  1.3372,  0.0435,  0.9037, -2.3000, -1.8546, -0.3708,  0.8617,\n",
       "          -0.0815, -0.5283],\n",
       "         [-1.8347,  1.3372,  0.0435,  0.9037, -2.3000, -1.8546, -0.3708,  0.8617,\n",
       "          -0.0815, -0.5283],\n",
       "         [-1.8072,  0.1095, -1.2750, -2.9810, -0.6617, -0.9872,  0.7357, -1.1467,\n",
       "          -0.2426, -0.3318]]),\n",
       " tensor([[-1.8347,  1.3372,  0.0435,  0.9037, -2.3000, -1.8546, -0.3708,  0.8617,\n",
       "          -0.0815, -0.5283, -1.8347,  1.3372,  0.0435,  0.9037, -2.3000, -1.8546,\n",
       "          -0.3708,  0.8617, -0.0815, -0.5283, -1.8072,  0.1095, -1.2750, -2.9810,\n",
       "          -0.6617, -0.9872,  0.7357, -1.1467, -0.2426, -0.3318],\n",
       "         [-1.8347,  1.3372,  0.0435,  0.9037, -2.3000, -1.8546, -0.3708,  0.8617,\n",
       "          -0.0815, -0.5283, -1.8072,  0.1095, -1.2750, -2.9810, -0.6617, -0.9872,\n",
       "           0.7357, -1.1467, -0.2426, -0.3318, -0.2959,  1.2889,  0.0446,  0.9098,\n",
       "          -0.0984, -1.0908, -1.2545,  0.6205, -0.6505, -0.6958]]))"
      ]
     },
     "execution_count": 57,
     "metadata": {},
     "output_type": "execute_result"
    }
   ],
   "source": [
    "c = torch.randn(27, 10)\n",
    "c[Xtr[[1,2]]], c[Xtr[1]], c[Xtr[[1,2]]].view(2, -1)"
   ]
  },
  {
   "cell_type": "code",
   "execution_count": 37,
   "id": "6d09df2c-dfd1-4dba-9fc5-5d881daa0fe6",
   "metadata": {},
   "outputs": [
    {
     "data": {
      "text/plain": [
       "torch.Size([3, 10])"
      ]
     },
     "execution_count": 37,
     "metadata": {},
     "output_type": "execute_result"
    }
   ],
   "source": [
    "c[Xtr[1]].shape"
   ]
  },
  {
   "cell_type": "code",
   "execution_count": null,
   "id": "82bcf9d4-65a2-4a71-ad2d-db656e6c0235",
   "metadata": {},
   "outputs": [],
   "source": []
  },
  {
   "cell_type": "code",
   "execution_count": 52,
   "id": "0ae6d437-80e0-4031-9262-68d81ade6b1b",
   "metadata": {},
   "outputs": [
    {
     "name": "stdout",
     "output_type": "stream",
     "text": [
      ".\n",
      ".\n",
      "e\n"
     ]
    }
   ],
   "source": [
    "for i in Xtr[1]:\n",
    "    print(itos[i.item()])"
   ]
  },
  {
   "cell_type": "code",
   "execution_count": 8,
   "id": "eaa9e401-e9a4-4583-817e-68df5edcd10e",
   "metadata": {},
   "outputs": [
    {
     "data": {
      "text/plain": [
       "<torch._C.Generator at 0x18ae1db0490>"
      ]
     },
     "execution_count": 8,
     "metadata": {},
     "output_type": "execute_result"
    }
   ],
   "source": [
    "torch.manual_seed(42)"
   ]
  },
  {
   "cell_type": "code",
   "execution_count": 9,
   "id": "3e139a6a-1ee1-4478-bded-8b264d6467ab",
   "metadata": {},
   "outputs": [
    {
     "name": "stdout",
     "output_type": "stream",
     "text": [
      "12097\n"
     ]
    }
   ],
   "source": [
    "n_embd = 10\n",
    "n_hidden = 200\n",
    "C = torch.randn((vocab_size, n_embd))\n",
    "\n",
    "layers = [\n",
    "    Linear(fan_in= block_size * n_embd,\n",
    "          fan_out= n_hidden,\n",
    "          bias = False), BatchNorm1d(dim = n_hidden), Tanh(),\n",
    "    Linear(fan_in = n_hidden,\n",
    "          fan_out = vocab_size)\n",
    "]\n",
    "\n",
    "#Parameter init\n",
    "\n",
    "with torch.no_grad():\n",
    "    layers[-1].weight *= 0.1  #last layer make less confident\n",
    "\n",
    "parameters = [C] + [p for layer in layers for p in layer.parameters()]\n",
    "print(sum(p.nelement() for p in parameters))\n",
    "for p in parameters:\n",
    "    p.requires_grad = True\n"
   ]
  },
  {
   "cell_type": "code",
   "execution_count": 10,
   "id": "33bf227d-5261-4a8d-a73c-48f159a42e1c",
   "metadata": {},
   "outputs": [
    {
     "name": "stdout",
     "output_type": "stream",
     "text": [
      "      0/ 200000: 3.3517\n",
      "  10000/ 200000: 2.3907\n",
      "  20000/ 200000: 2.4897\n",
      "  30000/ 200000: 2.3136\n",
      "  40000/ 200000: 2.3068\n",
      "  50000/ 200000: 2.6146\n",
      "  60000/ 200000: 2.5422\n",
      "  70000/ 200000: 1.8522\n",
      "  80000/ 200000: 1.8862\n",
      "  90000/ 200000: 1.7571\n",
      " 100000/ 200000: 2.4206\n",
      " 110000/ 200000: 2.1336\n",
      " 120000/ 200000: 2.1542\n",
      " 130000/ 200000: 2.0834\n",
      " 140000/ 200000: 2.4366\n",
      " 150000/ 200000: 2.1078\n",
      " 160000/ 200000: 1.9967\n",
      " 170000/ 200000: 2.2503\n",
      " 180000/ 200000: 2.1931\n",
      " 190000/ 200000: 1.9876\n"
     ]
    }
   ],
   "source": [
    "# Same Optimization\n",
    "max_steps = 200000\n",
    "batch_size = 32\n",
    "lossi = []\n",
    "\n",
    "for i in range(max_steps):\n",
    "\n",
    "    #minibatch construct \n",
    "    ix = torch.randint(0, Xtr.shape[0], (batch_size,))\n",
    "    Xb, Yb = Xtr[ix], Ytr[ix]\n",
    "\n",
    "    # forward pass\n",
    "    emb = C[Xb] # embed the characters into the vectors \n",
    "    x = emb.view(Xb.shape[0], -1)\n",
    "    \n",
    "    for layer in layers:        \n",
    "        x = layer(x)\n",
    "    loss = F.cross_entropy(x, Yb)\n",
    "\n",
    "    #backward pass\n",
    "    for p in parameters:\n",
    "        p.grad = None\n",
    "    loss.backward()\n",
    "\n",
    "    #update : simple SGD\n",
    "    lr = 0.1 if i < 150000 else 0.01\n",
    "    for p in parameters:\n",
    "        p.data += -lr * p.grad\n",
    "\n",
    "    \n",
    "  # track stats\n",
    "    if i % 10000 == 0: # print every once in a while\n",
    "        print(f'{i:7d}/{max_steps:7d}: {loss.item():.4f}')\n",
    "    lossi.append(loss.log10().item())"
   ]
  },
  {
   "cell_type": "code",
   "execution_count": 79,
   "id": "097755a9-4a82-456f-92c8-e88a19cba4e4",
   "metadata": {},
   "outputs": [
    {
     "data": {
      "text/plain": [
       "torch.Size([32, 3])"
      ]
     },
     "execution_count": 79,
     "metadata": {},
     "output_type": "execute_result"
    }
   ],
   "source": [
    "Xtr[torch.randint(0, Xtr.shape[0], (batch_size,))].shape"
   ]
  },
  {
   "cell_type": "code",
   "execution_count": 81,
   "id": "3b77329e-7722-4514-8af4-6e78e506ffc0",
   "metadata": {},
   "outputs": [
    {
     "data": {
      "text/plain": [
       "torch.Size([32, 3, 10])"
      ]
     },
     "execution_count": 81,
     "metadata": {},
     "output_type": "execute_result"
    }
   ],
   "source": [
    "C[Xtr[torch.randint(0, Xtr.shape[0], (batch_size,))]].shape"
   ]
  },
  {
   "cell_type": "code",
   "execution_count": 11,
   "id": "c0225f69-c4f5-46ea-99e8-b12c671e1899",
   "metadata": {},
   "outputs": [
    {
     "data": {
      "text/plain": [
       "[<matplotlib.lines.Line2D at 0x18ae84e9c10>]"
      ]
     },
     "execution_count": 11,
     "metadata": {},
     "output_type": "execute_result"
    },
    {
     "data": {
      "image/png": "[encoded data removed]",
      "text/plain": [
       "<Figure size 640x480 with 1 Axes>"
      ]
     },
     "metadata": {},
     "output_type": "display_data"
    }
   ],
   "source": [
    "plt.plot(lossi)"
   ]
  },
  {
   "cell_type": "code",
   "execution_count": 12,
   "id": "830b4ac9-eb49-40dc-94bc-e50ce586bc6a",
   "metadata": {},
   "outputs": [],
   "source": [
    "#Put the layers into eval mode\n",
    "for layer in layers:\n",
    "    if isinstance(layer, BatchNorm1d):\n",
    "        layer.training = False"
   ]
  },
  {
   "cell_type": "code",
   "execution_count": 13,
   "id": "bd02eb3c-542b-4ed0-b688-0cf662124212",
   "metadata": {},
   "outputs": [
    {
     "name": "stdout",
     "output_type": "stream",
     "text": [
      "train 2.0801782608032227\n",
      "val 2.1198549270629883\n"
     ]
    }
   ],
   "source": [
    "# evaluate the loss\n",
    "@torch.no_grad() # this decorator disables gradient tracking inside pytorch\n",
    "def split_loss(split):\n",
    "    x,y = {\n",
    "    'train': (Xtr, Ytr),\n",
    "    'val': (Xdev, Ydev),\n",
    "    'test': (Xte, Yte),\n",
    "    }[split]\n",
    "    emb = C[x]\n",
    "    x = emb.view(emb.shape[0], -1)\n",
    "    for layer in layers:\n",
    "        x = layer(x)\n",
    "    loss = F.cross_entropy(x, y)\n",
    "    print(split, loss.item())\n",
    "\n",
    "split_loss('train')\n",
    "split_loss('val')"
   ]
  },
  {
   "cell_type": "code",
   "execution_count": 14,
   "id": "eec76914-dcb1-415f-a81c-0080aa3b3fcf",
   "metadata": {},
   "outputs": [
    {
     "name": "stdout",
     "output_type": "stream",
     "text": [
      "damiara.\n",
      "alka.\n",
      "aris.\n",
      "tri.\n",
      "gerryslyn.\n",
      "sayvo.\n",
      "ceino.\n",
      "sot.\n",
      "emon.\n",
      "cani.\n",
      "ciaub.\n",
      "alitithira.\n",
      "liza.\n",
      "jeman.\n",
      "ana.\n",
      "alynna.\n",
      "jamaur.\n",
      "ben.\n",
      "quan.\n",
      "torie.\n"
     ]
    }
   ],
   "source": [
    "# sample from the model\n",
    "for _ in range(20):\n",
    "\n",
    "    out = []\n",
    "    context = [0] * block_size # initialize with all ...\n",
    "    while True:\n",
    "        # forward pass the neural net\n",
    "        emb = C[torch.tensor([context])]\n",
    "        x = emb.view(emb.shape[0], -1)\n",
    "        for layer in layers:\n",
    "            x = layer(x)\n",
    "        logits = x\n",
    "        probs = F.softmax(logits, dim=1)\n",
    "        # sample from the distribution\n",
    "        ix = torch.multinomial(probs, num_samples=1).item()\n",
    "        # shift the context window and track the samples\n",
    "        context = context[1:] + [ix]\n",
    "        out.append(ix)\n",
    "        # if we sample the special '.' token, break\n",
    "        if ix == 0:\n",
    "            break\n",
    "\n",
    "    print(''.join(itos[i] for i in out)) # decode and print the generated word"
   ]
  },
  {
   "cell_type": "code",
   "execution_count": 15,
   "id": "c4a2c135-68e5-426a-a9b9-bd677790b2b0",
   "metadata": {},
   "outputs": [
    {
     "data": {
      "text/plain": [
       "[<matplotlib.lines.Line2D at 0x18ae664b8d0>]"
      ]
     },
     "execution_count": 15,
     "metadata": {},
     "output_type": "execute_result"
    },
    {
     "data": {
      "image/png": "[encoded data removed]",
      "text/plain": [
       "<Figure size 640x480 with 1 Axes>"
      ]
     },
     "metadata": {},
     "output_type": "display_data"
    }
   ],
   "source": [
    "#Re structure the loss plot \n",
    "plt.plot(torch.tensor(lossi).view(-1, 1000).mean(1))"
   ]
  },
  {
   "cell_type": "code",
   "execution_count": 19,
   "id": "5e4b5e29-fdaf-4400-a091-cf1a3d50e24f",
   "metadata": {},
   "outputs": [],
   "source": [
    "# Module for Embedding\n",
    "\n",
    "class Embedding:\n",
    "\n",
    "    def __init__(self, \n",
    "                num_embeddings: int,\n",
    "                embedding_dim: int):\n",
    "        self.weight = torch.randn((num_embeddings, embedding_dim))\n",
    "\n",
    "    def __call__(self, \n",
    "                 IX:torch.Tensor):\n",
    "        self.out = self.weight[IX]\n",
    "        return self.out\n",
    "\n",
    "    def parameters(self):\n",
    "        return [self.weight]\n",
    "\n",
    "#Module for Flatten\n",
    "class Flatten:\n",
    "\n",
    "    def __call__(self,\n",
    "                x: torch.Tensor):\n",
    "        self.out = x.view(x.shape[0], -1)\n",
    "        return self.out\n",
    "\n",
    "    def parameters(self):\n",
    "        return []\n",
    "\n",
    "\n",
    "#Module for Sequential\n",
    "\n",
    "class Sequential:\n",
    "\n",
    "    def __init__(self,\n",
    "                layers:list):\n",
    "        self.layers = layers\n",
    "    \n",
    "    def __call__(self, \n",
    "                x: torch.Tensor):\n",
    "        for layer in self.layers:\n",
    "            x = layer(x)\n",
    "        self.out = x\n",
    "        return x\n",
    "    \n",
    "    def parameters(self):\n",
    "        return [p for layer in self.layers for p in layer.parameters()]\n",
    "        "
   ]
  },
  {
   "cell_type": "code",
   "execution_count": 22,
   "id": "80ca67b5-aa0d-4578-b114-374eeb30c354",
   "metadata": {},
   "outputs": [
    {
     "name": "stdout",
     "output_type": "stream",
     "text": [
      "12097\n"
     ]
    }
   ],
   "source": [
    "n_embd = 10\n",
    "n_hidden = 200\n",
    "\n",
    "model = Sequential([\n",
    "    Embedding(num_embeddings = vocab_size,\n",
    "             embedding_dim = n_embd),\n",
    "    Flatten(),\n",
    "    Linear(n_embd * block_size,\n",
    "          n_hidden,\n",
    "          bias = False),\n",
    "    BatchNorm1d(n_hidden),\n",
    "    Tanh(),\n",
    "    Linear(n_hidden,\n",
    "          vocab_size)\n",
    "])\n",
    "\n",
    "with torch.no_grad():\n",
    "    model.layers[-1].weight *= 0.1\n",
    "\n",
    "parameters = model.parameters()\n",
    "print(sum(p.nelement() for p in parameters))\n",
    "\n",
    "for p in parameters:\n",
    "    p.requires_grad = True"
   ]
  },
  {
   "cell_type": "code",
   "execution_count": 24,
   "id": "9f6082e4-f526-49d6-b753-6e7e17653753",
   "metadata": {},
   "outputs": [
    {
     "name": "stdout",
     "output_type": "stream",
     "text": [
      "      0/ 200000: 3.3569\n"
     ]
    }
   ],
   "source": [
    "# Same Optimization\n",
    "max_steps = 200000\n",
    "batch_size = 32\n",
    "lossi = []\n",
    "\n",
    "for i in range(max_steps):\n",
    "\n",
    "    #minibatch construct \n",
    "    ix = torch.randint(0, Xtr.shape[0], (batch_size,))\n",
    "    Xb, Yb = Xtr[ix], Ytr[ix]\n",
    "\n",
    "    # forward pass\n",
    "    logits = model(Xb)\n",
    "    loss = F.cross_entropy(logits, Yb)\n",
    "\n",
    "    #backward pass\n",
    "    for p in parameters:\n",
    "        p.grad = None\n",
    "    loss.backward()\n",
    "\n",
    "    #update : simple SGD\n",
    "    lr = 0.1 if i < 150000 else 0.01\n",
    "    for p in parameters:\n",
    "        p.data += -lr * p.grad\n",
    "\n",
    "    \n",
    "  # track stats\n",
    "    if i % 10000 == 0: # print every once in a while\n",
    "        print(f'{i:7d}/{max_steps:7d}: {loss.item():.4f}')\n",
    "    lossi.append(loss.log10().item())\n",
    "    break"
   ]
  },
  {
   "cell_type": "code",
   "execution_count": 29,
   "id": "2a7e972a-e6ee-496f-bcb9-7aec3128ed85",
   "metadata": {},
   "outputs": [
    {
     "ename": "RuntimeError",
     "evalue": "shape '[-1, 1000]' is invalid for input of size 1",
     "output_type": "error",
     "traceback": [
      "\u001b[1;31m---------------------------------------------------------------------------\u001b[0m",
      "\u001b[1;31mRuntimeError\u001b[0m                              Traceback (most recent call last)",
      "Cell \u001b[1;32mIn[29], line 2\u001b[0m\n\u001b[0;32m      1\u001b[0m \u001b[38;5;66;03m#Re structure the loss plot \u001b[39;00m\n\u001b[1;32m----> 2\u001b[0m plt\u001b[38;5;241m.\u001b[39mplot(\u001b[43mtorch\u001b[49m\u001b[38;5;241;43m.\u001b[39;49m\u001b[43mtensor\u001b[49m\u001b[43m(\u001b[49m\u001b[43mlossi\u001b[49m\u001b[43m)\u001b[49m\u001b[38;5;241;43m.\u001b[39;49m\u001b[43mview\u001b[49m\u001b[43m(\u001b[49m\u001b[38;5;241;43m-\u001b[39;49m\u001b[38;5;241;43m1\u001b[39;49m\u001b[43m,\u001b[49m\u001b[43m \u001b[49m\u001b[38;5;241;43m1000\u001b[39;49m\u001b[43m)\u001b[49m\u001b[38;5;241m.\u001b[39mmean(\u001b[38;5;241m1\u001b[39m))\n",
      "\u001b[1;31mRuntimeError\u001b[0m: shape '[-1, 1000]' is invalid for input of size 1"
     ]
    }
   ],
   "source": [
    "#Re structure the loss plot \n",
    "plt.plot(torch.tensor(lossi).view(-1, 1000).mean(1))"
   ]
  },
  {
   "cell_type": "code",
   "execution_count": 26,
   "id": "cd708679-63f8-4488-9562-e208e2217982",
   "metadata": {},
   "outputs": [],
   "source": [
    "#Put the layers into eval mode\n",
    "for layer in model.layers:\n",
    "    layer.training = False"
   ]
  },
  {
   "cell_type": "code",
   "execution_count": 27,
   "id": "1c66b156-2e47-4d0e-a4c1-39b07617d65d",
   "metadata": {},
   "outputs": [
    {
     "name": "stdout",
     "output_type": "stream",
     "text": [
      "train 3.383620500564575\n",
      "val 3.380610466003418\n"
     ]
    }
   ],
   "source": [
    "# evaluate the loss\n",
    "@torch.no_grad() # this decorator disables gradient tracking inside pytorch\n",
    "def split_loss(split):\n",
    "    x,y = {\n",
    "    'train': (Xtr, Ytr),\n",
    "    'val': (Xdev, Ydev),\n",
    "    'test': (Xte, Yte),\n",
    "    }[split]\n",
    "    logits = model(x)\n",
    "    loss = F.cross_entropy(logits, y)\n",
    "    print(split, loss.item())\n",
    "\n",
    "split_loss('train')\n",
    "split_loss('val')"
   ]
  },
  {
   "cell_type": "code",
   "execution_count": 28,
   "id": "055e6ac5-93cc-46e4-aa32-57248961ce52",
   "metadata": {},
   "outputs": [
    {
     "name": "stdout",
     "output_type": "stream",
     "text": [
      "bakgsjpyqykqbnhkijitgeuoeemznsuhgpuullhfo.\n",
      "qorhas.\n",
      "bacpadsczcotsbicah.\n",
      "hdt.\n",
      "vkijcqjpnh.\n",
      "arnuygbtseeslljqxjonrjoezomorrbham.\n",
      "vqwmmxudpjcgzjlnvucemnzyqyskguictznwhalsyukliqgrrrzhtry.\n",
      "bjrbuekdfenshpxrpscappxrozjnpwwaxtvgigrbctxrvlbnzrzvz.\n",
      "lnziuelesumczj.\n",
      "nafhndxgth.\n",
      "ikcylizpzdpsjxjefasvl.\n",
      "ikowsstqxjvcorrw.\n",
      "mgwlchoxblfiywkliijxkfzlh.\n",
      "tmerbuuklievkkxjkfabprucmdur.\n",
      "qqeliwjkhqhclkunxyiafqmthxthkhrqyhug.\n",
      "orcutnlycxptk.\n",
      "aixlpzzxyyswzwuxefauilculs.\n",
      "kqyszmz.\n",
      "ztpl.\n",
      "t.\n"
     ]
    }
   ],
   "source": [
    "# sample from the model\n",
    "for _ in range(20):\n",
    "\n",
    "    out = []\n",
    "    context = [0] * block_size # initialize with all ...\n",
    "    while True:\n",
    "        # forward pass the neural net\n",
    "        logits = model(torch.tensor([context]))\n",
    "        probs = F.softmax(logits, dim=1)\n",
    "        # sample from the distribution\n",
    "        ix = torch.multinomial(probs, num_samples=1).item()\n",
    "        # shift the context window and track the samples\n",
    "        context = context[1:] + [ix]\n",
    "        out.append(ix)\n",
    "        # if we sample the special '.' token, break\n",
    "        if ix == 0:\n",
    "            break\n",
    "\n",
    "    print(''.join(itos[i] for i in out)) # decode and print the generated word"
   ]
  },
  {
   "cell_type": "markdown",
   "id": "b85393c7-96cd-4a38-9d85-53a3b94a605a",
   "metadata": {},
   "source": [
    "# Implementing Wavenet"
   ]
  },
  {
   "cell_type": "code",
   "execution_count": 45,
   "id": "e4b34cef-b5ba-472e-ac8f-0e6bae06ca1c",
   "metadata": {},
   "outputs": [],
   "source": [
    "from tqdm import tqdm"
   ]
  },
  {
   "cell_type": "code",
   "execution_count": 100,
   "id": "17a077e7-a7af-4bba-9aea-01cc821fbfc7",
   "metadata": {},
   "outputs": [
    {
     "name": "stdout",
     "output_type": "stream",
     "text": [
      "torch.Size([182441, 16]) torch.Size([182441])\n",
      "torch.Size([22902, 16]) torch.Size([22902])\n",
      "torch.Size([22803, 16]) torch.Size([22803])\n"
     ]
    }
   ],
   "source": [
    "# build the dataset\n",
    "block_size = 16 # context length: how many characters do we take to predict the next one?\n",
    "\n",
    "def build_dataset(words):  \n",
    "  X, Y = [], []\n",
    "  \n",
    "  for w in words:\n",
    "    context = [0] * block_size\n",
    "    for ch in w + '.':\n",
    "      ix = stoi[ch]\n",
    "      X.append(context)\n",
    "      Y.append(ix)\n",
    "      context = context[1:] + [ix] # crop and append\n",
    "\n",
    "  X = torch.tensor(X)\n",
    "  Y = torch.tensor(Y)\n",
    "  print(X.shape, Y.shape)\n",
    "  return X, Y\n",
    "\n",
    "import random\n",
    "random.seed(42)\n",
    "random.shuffle(words)\n",
    "n1 = int(0.8*len(words))\n",
    "n2 = int(0.9*len(words))\n",
    "\n",
    "Xtr,  Ytr  = build_dataset(words[:n1])     # 80%\n",
    "Xdev, Ydev = build_dataset(words[n1:n2])   # 10%\n",
    "Xte,  Yte  = build_dataset(words[n2:])     # 10%"
   ]
  },
  {
   "cell_type": "code",
   "execution_count": 101,
   "id": "46200ac7-272b-4c29-96b8-142a381dbce5",
   "metadata": {},
   "outputs": [
    {
     "name": "stdout",
     "output_type": "stream",
     "text": [
      "................ --> e\n",
      "...............e --> l\n",
      "..............el --> i\n",
      ".............eli --> a\n",
      "............elia --> n\n",
      "...........elian --> y\n",
      "..........eliany --> s\n",
      ".........elianys --> .\n",
      "................ --> t\n",
      "...............t --> r\n",
      "..............tr --> o\n",
      ".............tro --> y\n",
      "............troy --> .\n",
      "................ --> m\n",
      "...............m --> a\n",
      "..............ma --> r\n",
      ".............mar --> k\n",
      "............mark --> u\n",
      "...........marku --> s\n",
      "..........markus --> .\n"
     ]
    }
   ],
   "source": [
    "for x,y in zip(Xtr[:20], Ytr[:20]):\n",
    "  print(''.join(itos[ix.item()] for ix in x), '-->', itos[y.item()])"
   ]
  },
  {
   "cell_type": "code",
   "execution_count": 40,
   "id": "728d01fb-0213-4b59-8503-d89ef684004c",
   "metadata": {},
   "outputs": [
    {
     "name": "stdout",
     "output_type": "stream",
     "text": [
      "torch.Size([4, 8, 10])  |  torch.Size([4, 80])\n",
      "torch.Size([4, 4, 20])\n"
     ]
    },
    {
     "data": {
      "text/plain": [
       "tensor([[ 0.3839,  0.7760, -1.1590, -1.1825,  0.1536,  2.3877,  0.4820, -1.1294,\n",
       "          0.6352, -0.4515, -0.8486, -0.2286, -0.8888, -1.5146,  0.0213, -1.9360,\n",
       "         -0.3061,  0.1917, -2.0027, -1.8365],\n",
       "        [ 0.4488, -0.6486,  0.3250, -0.0257, -0.3038, -1.5819, -0.1326, -0.3774,\n",
       "          1.2290,  2.4783, -1.7748, -1.1239, -1.2347, -0.1523,  0.8574, -0.6728,\n",
       "          0.6395, -0.1067,  0.9066, -1.0997],\n",
       "        [-0.0986, -1.1156,  0.4401, -1.1528,  1.4821,  0.5700, -1.8380, -0.9553,\n",
       "         -0.4530, -0.9762, -0.4446,  0.1068,  0.6261, -0.3136,  0.8145,  0.7461,\n",
       "          0.5240,  0.1876, -0.3898,  1.0543],\n",
       "        [ 0.6951,  0.2021, -0.5752, -0.3475,  0.6412, -0.1004, -0.6735,  1.8050,\n",
       "         -0.8052, -1.5130,  1.8885,  1.0273,  0.4233,  0.0616,  1.5087, -0.2803,\n",
       "         -1.1856, -0.1599, -0.7874, -0.1946]])"
      ]
     },
     "execution_count": 40,
     "metadata": {},
     "output_type": "execute_result"
    }
   ],
   "source": [
    "# for batch of 4, 8 is block size and 10 is embedding dims\n",
    "#wavenet architecture is to take the inputs in sub groups \n",
    "print(torch.randn((4,8,10)).shape,' | ',torch.randn((4,8,10)).view(4,80).shape)\n",
    "\n",
    "# if we want to take two inputs at a time we can group them as \n",
    "print(torch.randn((4,8,10)).view(4,-1,20).shape)\n",
    "#the four in the dimension 1 (index starts from 0) holds two character per group hence has 20 dims where 10 for each charcter\n",
    "torch.randn((4,8,10)).view(4,-1,20)[0]"
   ]
  },
  {
   "cell_type": "code",
   "execution_count": 119,
   "id": "74c29296-dd7e-4f53-ad95-8b9b841ecd06",
   "metadata": {},
   "outputs": [],
   "source": [
    "#Near Copy paste of part 3 notebook\n",
    "\n",
    "#Linear Layer\n",
    "class Linear:\n",
    "    def __init__(self,\n",
    "                fan_in: int,\n",
    "                fan_out: int,\n",
    "                bias = True):\n",
    "        \n",
    "        self.weight = torch.randn((fan_in, fan_out)) // fan_in ** 0.5  #note kaiming init\n",
    "        self.bias = torch.zeros(fan_out) if bias else None\n",
    "\n",
    "    def __call__(self,\n",
    "               x:torch.Tensor):\n",
    "        self.out = x @ self.weight\n",
    "        if self.bias is not None:\n",
    "            self.out += self.bias\n",
    "        return self.out\n",
    "\n",
    "    def parameters(self):\n",
    "        return [self.weight] + ([] if self.bias is None else [self.bias])\n",
    "\n",
    "#Batch Normalisation Layer\n",
    "\n",
    "class BatchNorm1d:\n",
    "\n",
    "    def __init__(self,\n",
    "                dim: int,\n",
    "                eps: int|float = 1e-5,\n",
    "                momentum: int|float = 0.1):\n",
    "        self.eps = eps\n",
    "        self.momentum = momentum\n",
    "        self.training = True\n",
    "        #parameters\n",
    "        self.gamma = torch.ones(dim)\n",
    "        self.beta = torch.zeros(dim)\n",
    "        #buffers \n",
    "        self.running_mean = torch.zeros(dim)\n",
    "        self.running_var = torch.ones(dim)\n",
    "    \n",
    "    def __call__(self,\n",
    "                x: torch.Tensor):\n",
    "\n",
    "        #calculate the forward pass\n",
    "        if self.training:\n",
    "            if x.ndim == 2:\n",
    "                dim = 0\n",
    "            elif x.ndim == 3:\n",
    "                dim = (0,1)\n",
    "            xmean = x.mean(dim,keepdims= True)\n",
    "            xvar = x.var(dim, keepdims = True)\n",
    "        else:\n",
    "            xmean = self.running_mean\n",
    "            xvar = self.running_var\n",
    "\n",
    "        xhat = (x - xmean) /torch.sqrt(xvar + self.eps) #normalise to unit variance\n",
    "        self.out = self.gamma * xhat + self.beta\n",
    "\n",
    "        #Update the buffers\n",
    "        if self.training:\n",
    "            with torch.no_grad():\n",
    "                self.running_mean = (1 - self.momentum) * self.running_mean + self.momentum * xmean\n",
    "                self.running_var = (1 - self.momentum) * self.running_var + self.momentum * xvar\n",
    "        \n",
    "        return self.out\n",
    "\n",
    "    def parameters(self):\n",
    "        return [self.gamma, self.beta]\n",
    "\n",
    "#Activation Layer\n",
    "class Tanh:\n",
    "    def __call__(self,\n",
    "                 x:torch.Tensor):\n",
    "        self.out = torch.tanh(x)\n",
    "        return self.out\n",
    "    def parameters(self):\n",
    "        return []\n",
    "\n",
    "# Module for Embedding\n",
    "\n",
    "class Embedding:\n",
    "\n",
    "    def __init__(self, \n",
    "                num_embeddings: int,\n",
    "                embedding_dim: int):\n",
    "        self.weight = torch.randn((num_embeddings, embedding_dim))\n",
    "\n",
    "    def __call__(self, \n",
    "                 IX:torch.Tensor):\n",
    "        self.out = self.weight[IX]\n",
    "        return self.out\n",
    "\n",
    "    def parameters(self):\n",
    "        return [self.weight]\n",
    "\n",
    "#Module for Flatten\n",
    "class FlattenConsecutive:\n",
    "\n",
    "    def __init__(self,\n",
    "                n : int):\n",
    "        self.n = n\n",
    "\n",
    "    def __call__(self,\n",
    "                x: torch.Tensor):\n",
    "        B,T,C = x.size()\n",
    "        x = x.view(B, T//self.n, C*self.n)\n",
    "        if x.shape[1] == 1:\n",
    "            x = x.squeeze(1)\n",
    "        self.out = x\n",
    "        return self.out\n",
    "        \n",
    "    def parameters(self):\n",
    "        return []\n",
    "\n",
    "\n",
    "#Module for Sequential\n",
    "\n",
    "class Sequential:\n",
    "\n",
    "    def __init__(self,\n",
    "                layers:list):\n",
    "        self.layers = layers\n",
    "    \n",
    "    def __call__(self, \n",
    "                x: torch.Tensor):\n",
    "        for layer in self.layers:\n",
    "            x = layer(x)\n",
    "        self.out = x\n",
    "        return x\n",
    "    \n",
    "    def parameters(self):\n",
    "        return [p for layer in self.layers for p in layer.parameters()]\n",
    "        \n"
   ]
  },
  {
   "cell_type": "code",
   "execution_count": 120,
   "id": "cda2f0c4-44dc-45a7-9a86-f84c4fa5e6c9",
   "metadata": {},
   "outputs": [],
   "source": [
    "torch.manual_seed(42); # seed rng for reproducibility"
   ]
  },
  {
   "cell_type": "code",
   "execution_count": 121,
   "id": "72cf9dcf-b915-4fdc-8528-1ee29b3e6497",
   "metadata": {},
   "outputs": [
    {
     "name": "stdout",
     "output_type": "stream",
     "text": [
      "289727\n"
     ]
    }
   ],
   "source": [
    "n_embd = 100\n",
    "n_hidden = 200\n",
    "\n",
    "model = Sequential([\n",
    "    Embedding(vocab_size, n_embd),\n",
    "    FlattenConsecutive(2), Linear(n_embd*2, n_hidden, bias = False), BatchNorm1d(n_hidden), Tanh(),\n",
    "    FlattenConsecutive(2), Linear(n_hidden*2, n_hidden, bias= False), BatchNorm1d(n_hidden), Tanh(),\n",
    "    FlattenConsecutive(2), Linear(n_hidden*2, n_hidden, bias=False), BatchNorm1d(n_hidden), Tanh(),\n",
    "    FlattenConsecutive(2), Linear(n_hidden*2, n_hidden, bias=False), BatchNorm1d(n_hidden), Tanh(),\n",
    "    Linear(n_hidden, vocab_size),\n",
    "])\n",
    "\n",
    "# parameter init\n",
    "with torch.no_grad():\n",
    "  model.layers[-1].weight *= 0.1 # last layer make less confident\n",
    "\n",
    "\n",
    "parameters = model.parameters()\n",
    "print(sum(p.nelement() for p in parameters)) # number of parameters in total\n",
    "for p in parameters:\n",
    "  p.requires_grad = True"
   ]
  },
  {
   "cell_type": "code",
   "execution_count": null,
   "id": "b799f106-cc1f-45e4-a48c-264713b28c21",
   "metadata": {},
   "outputs": [],
   "source": []
  },
  {
   "cell_type": "code",
   "execution_count": 118,
   "id": "7ca86885-1a43-46e0-a7f2-d7876b9814bd",
   "metadata": {},
   "outputs": [
    {
     "name": "stdout",
     "output_type": "stream",
     "text": [
      "Embedding of shape torch.Size([32, 16, 40])\n",
      "FlattenConsecutive of shape torch.Size([32, 8, 80])\n",
      "Linear of shape torch.Size([32, 8, 200])\n",
      "BatchNorm1d of shape torch.Size([32, 8, 200])\n",
      "Tanh of shape torch.Size([32, 8, 200])\n",
      "FlattenConsecutive of shape torch.Size([32, 4, 400])\n",
      "Linear of shape torch.Size([32, 4, 200])\n",
      "BatchNorm1d of shape torch.Size([32, 4, 200])\n",
      "Tanh of shape torch.Size([32, 4, 200])\n",
      "FlattenConsecutive of shape torch.Size([32, 2, 400])\n",
      "Linear of shape torch.Size([32, 2, 200])\n",
      "BatchNorm1d of shape torch.Size([32, 2, 200])\n",
      "Tanh of shape torch.Size([32, 2, 200])\n",
      "FlattenConsecutive of shape torch.Size([32, 400])\n",
      "Linear of shape torch.Size([32, 200])\n",
      "BatchNorm1d of shape torch.Size([32, 200])\n",
      "Tanh of shape torch.Size([32, 200])\n",
      "Linear of shape torch.Size([32, 27])\n"
     ]
    }
   ],
   "source": [
    "for layer in model.layers:\n",
    "    print(f'{layer.__class__.__name__} of shape {layer.out.shape}')"
   ]
  },
  {
   "cell_type": "code",
   "execution_count": 122,
   "id": "b7f8b005-16ae-4f8a-bd69-a6faec9ad469",
   "metadata": {},
   "outputs": [
    {
     "name": "stderr",
     "output_type": "stream",
     "text": [
      "  0%|                                                                             | 24/200000 [00:00<27:22, 121.78it/s]"
     ]
    },
    {
     "name": "stdout",
     "output_type": "stream",
     "text": [
      "      0/ 200000: 3.4586\n"
     ]
    },
    {
     "name": "stderr",
     "output_type": "stream",
     "text": [
      "  5%|███▋                                                                      | 10016/200000 [01:30<29:11, 108.50it/s]"
     ]
    },
    {
     "name": "stdout",
     "output_type": "stream",
     "text": [
      "  10000/ 200000: 2.7541\n"
     ]
    },
    {
     "name": "stderr",
     "output_type": "stream",
     "text": [
      " 10%|███████▌                                                                   | 20013/200000 [03:11<32:59, 90.91it/s]"
     ]
    },
    {
     "name": "stdout",
     "output_type": "stream",
     "text": [
      "  20000/ 200000: 2.8033\n"
     ]
    },
    {
     "name": "stderr",
     "output_type": "stream",
     "text": [
      " 15%|███████████▎                                                               | 30019/200000 [05:01<30:28, 92.95it/s]"
     ]
    },
    {
     "name": "stdout",
     "output_type": "stream",
     "text": [
      "  30000/ 200000: 2.8691\n"
     ]
    },
    {
     "name": "stderr",
     "output_type": "stream",
     "text": [
      " 20%|██████████████▊                                                           | 40016/200000 [06:44<25:42, 103.74it/s]"
     ]
    },
    {
     "name": "stdout",
     "output_type": "stream",
     "text": [
      "  40000/ 200000: 2.8860\n"
     ]
    },
    {
     "name": "stderr",
     "output_type": "stream",
     "text": [
      " 25%|██████████████████▊                                                        | 50016/200000 [08:30<28:10, 88.73it/s]"
     ]
    },
    {
     "name": "stdout",
     "output_type": "stream",
     "text": [
      "  50000/ 200000: 2.8101\n"
     ]
    },
    {
     "name": "stderr",
     "output_type": "stream",
     "text": [
      " 30%|██████████████████████▌                                                    | 60016/200000 [10:17<25:25, 91.73it/s]"
     ]
    },
    {
     "name": "stdout",
     "output_type": "stream",
     "text": [
      "  60000/ 200000: 2.8545\n"
     ]
    },
    {
     "name": "stderr",
     "output_type": "stream",
     "text": [
      " 35%|██████████████████████████▎                                                | 70014/200000 [12:02<22:51, 94.79it/s]"
     ]
    },
    {
     "name": "stdout",
     "output_type": "stream",
     "text": [
      "  70000/ 200000: 2.7294\n"
     ]
    },
    {
     "name": "stderr",
     "output_type": "stream",
     "text": [
      " 40%|█████████████████████████████▌                                            | 80011/200000 [13:45<19:37, 101.86it/s]"
     ]
    },
    {
     "name": "stdout",
     "output_type": "stream",
     "text": [
      "  80000/ 200000: 2.5787\n"
     ]
    },
    {
     "name": "stderr",
     "output_type": "stream",
     "text": [
      " 45%|█████████████████████████████████▊                                         | 90016/200000 [15:32<25:08, 72.91it/s]"
     ]
    },
    {
     "name": "stdout",
     "output_type": "stream",
     "text": [
      "  90000/ 200000: 2.5820\n"
     ]
    },
    {
     "name": "stderr",
     "output_type": "stream",
     "text": [
      " 50%|█████████████████████████████████████                                     | 100018/200000 [17:20<17:37, 94.55it/s]"
     ]
    },
    {
     "name": "stdout",
     "output_type": "stream",
     "text": [
      " 100000/ 200000: 2.6897\n"
     ]
    },
    {
     "name": "stderr",
     "output_type": "stream",
     "text": [
      " 55%|████████████████████████████████████████▋                                 | 110015/200000 [19:32<17:19, 86.58it/s]"
     ]
    },
    {
     "name": "stdout",
     "output_type": "stream",
     "text": [
      " 110000/ 200000: 2.5075\n"
     ]
    },
    {
     "name": "stderr",
     "output_type": "stream",
     "text": [
      " 60%|████████████████████████████████████████████▍                             | 120011/200000 [21:51<19:07, 69.73it/s]"
     ]
    },
    {
     "name": "stdout",
     "output_type": "stream",
     "text": [
      " 120000/ 200000: 2.4698\n"
     ]
    },
    {
     "name": "stderr",
     "output_type": "stream",
     "text": [
      " 65%|████████████████████████████████████████████████                          | 130010/200000 [23:52<20:23, 57.21it/s]"
     ]
    },
    {
     "name": "stdout",
     "output_type": "stream",
     "text": [
      " 130000/ 200000: 2.5207\n"
     ]
    },
    {
     "name": "stderr",
     "output_type": "stream",
     "text": [
      " 70%|███████████████████████████████████████████████████▊                      | 140011/200000 [26:12<14:18, 69.85it/s]"
     ]
    },
    {
     "name": "stdout",
     "output_type": "stream",
     "text": [
      " 140000/ 200000: 2.3907\n"
     ]
    },
    {
     "name": "stderr",
     "output_type": "stream",
     "text": [
      " 75%|██████████████████████████████████████████████████████▊                  | 150018/200000 [28:11<07:53, 105.65it/s]"
     ]
    },
    {
     "name": "stdout",
     "output_type": "stream",
     "text": [
      " 150000/ 200000: 2.6604\n"
     ]
    },
    {
     "name": "stderr",
     "output_type": "stream",
     "text": [
      " 80%|███████████████████████████████████████████████████████████▏              | 160014/200000 [30:23<09:40, 68.86it/s]"
     ]
    },
    {
     "name": "stdout",
     "output_type": "stream",
     "text": [
      " 160000/ 200000: 2.6632\n"
     ]
    },
    {
     "name": "stderr",
     "output_type": "stream",
     "text": [
      " 85%|██████████████████████████████████████████████████████████████▉           | 170018/200000 [32:39<06:06, 81.82it/s]"
     ]
    },
    {
     "name": "stdout",
     "output_type": "stream",
     "text": [
      " 170000/ 200000: 2.4682\n"
     ]
    },
    {
     "name": "stderr",
     "output_type": "stream",
     "text": [
      " 90%|█████████████████████████████████████████████████████████████████▋       | 180020/200000 [34:31<03:07, 106.41it/s]"
     ]
    },
    {
     "name": "stdout",
     "output_type": "stream",
     "text": [
      " 180000/ 200000: 2.6600\n"
     ]
    },
    {
     "name": "stderr",
     "output_type": "stream",
     "text": [
      " 95%|██████████████████████████████████████████████████████████████████████▎   | 190012/200000 [36:31<02:03, 81.06it/s]"
     ]
    },
    {
     "name": "stdout",
     "output_type": "stream",
     "text": [
      " 190000/ 200000: 2.5132\n"
     ]
    },
    {
     "name": "stderr",
     "output_type": "stream",
     "text": [
      "100%|██████████████████████████████████████████████████████████████████████████| 200000/200000 [38:21<00:00, 86.91it/s]\n"
     ]
    }
   ],
   "source": [
    "# Same Optimization\n",
    "max_steps = 200000\n",
    "batch_size = 32\n",
    "lossi = []\n",
    "\n",
    "for i in tqdm(range(max_steps)):\n",
    "\n",
    "    #minibatch construct \n",
    "    ix = torch.randint(0, Xtr.shape[0], (batch_size,))\n",
    "    Xb, Yb = Xtr[ix], Ytr[ix]\n",
    "\n",
    "    # forward pass\n",
    "    logits = model(Xb)\n",
    "    # print(logits)\n",
    "    loss = F.cross_entropy(logits, Yb)\n",
    "\n",
    "    #backward pass\n",
    "    for p in parameters:\n",
    "        p.grad = None\n",
    "    loss.backward()\n",
    "\n",
    "    #update : simple SGD\n",
    "    lr = 0.1 if i < 150000 else 0.01\n",
    "    for p in parameters:\n",
    "        p.data += -lr * p.grad\n",
    "\n",
    "    \n",
    "  # track stats\n",
    "    if i % 10000 == 0: # print every once in a while\n",
    "        print(f'{i:7d}/{max_steps:7d}: {loss.item():.4f}')\n",
    "    lossi.append(loss.log10().item())\n",
    "    # break\n",
    "\n",
    "    "
   ]
  },
  {
   "cell_type": "code",
   "execution_count": 123,
   "id": "4abdc794-c8ae-42b5-80aa-731ee7fb7e99",
   "metadata": {},
   "outputs": [
    {
     "data": {
      "text/plain": [
       "[<matplotlib.lines.Line2D at 0x18ae6b9eb90>]"
      ]
     },
     "execution_count": 123,
     "metadata": {},
     "output_type": "execute_result"
    },
    {
     "data": {
      "image/png": "[encoded data removed]",
      "text/plain": [
       "<Figure size 640x480 with 1 Axes>"
      ]
     },
     "metadata": {},
     "output_type": "display_data"
    }
   ],
   "source": [
    "#Re structure the loss plot \n",
    "plt.plot(torch.tensor(lossi).view(-1, 1000).mean(1))"
   ]
  },
  {
   "cell_type": "code",
   "execution_count": 124,
   "id": "53bf4180-5f50-402c-b14d-9b6b4aaef27b",
   "metadata": {},
   "outputs": [],
   "source": [
    "#Put the layers into eval mode\n",
    "for layer in model.layers:\n",
    "    layer.training = False"
   ]
  },
  {
   "cell_type": "code",
   "execution_count": 125,
   "id": "ae3294e1-cf60-401c-bde4-908a02085401",
   "metadata": {},
   "outputs": [
    {
     "name": "stdout",
     "output_type": "stream",
     "text": [
      "train 2.4970078468322754\n",
      "val 2.496837854385376\n"
     ]
    }
   ],
   "source": [
    "# evaluate the loss\n",
    "@torch.no_grad() # this decorator disables gradient tracking inside pytorch\n",
    "def split_loss(split):\n",
    "    x,y = {\n",
    "    'train': (Xtr, Ytr),\n",
    "    'val': (Xdev, Ydev),\n",
    "    'test': (Xte, Yte),\n",
    "    }[split]\n",
    "    logits = model(x)\n",
    "    loss = F.cross_entropy(logits, y)\n",
    "    print(split, loss.item())\n",
    "\n",
    "split_loss('train')\n",
    "split_loss('val')"
   ]
  },
  {
   "cell_type": "code",
   "execution_count": 127,
   "id": "9b28e7ab-6d55-4d03-8e44-dc00e046a8b7",
   "metadata": {},
   "outputs": [
    {
     "name": "stdout",
     "output_type": "stream",
     "text": [
      "nya.\n",
      "aielly.\n",
      "niele.\n",
      "ahxo.\n",
      "cavrwulbk.\n",
      "tarui.\n",
      "harawy.\n",
      "kymein.\n",
      "siaity.\n",
      "aiyy.\n",
      "sihieana.\n",
      "ltahlonh.\n",
      "asrainaa.\n",
      "cawufei.\n",
      "qenlie.\n",
      "raiir.\n",
      "khdlsrraa.\n",
      "rirrene.\n",
      "kydehvua.\n",
      "pidrin.\n"
     ]
    }
   ],
   "source": [
    "# sample from the model\n",
    "for _ in range(20):\n",
    "\n",
    "    out = []\n",
    "    context = [0] * block_size # initialize with all ...\n",
    "    while True:\n",
    "        # forward pass the neural net\n",
    "        logits = model(torch.tensor([context]))\n",
    "        probs = F.softmax(logits, dim=1)\n",
    "        # sample from the distribution\n",
    "        ix = torch.multinomial(probs, num_samples=1).item()\n",
    "        # shift the context window and track the samples\n",
    "        context = context[1:] + [ix]\n",
    "        out.append(ix)\n",
    "        # if we sample the special '.' token, break\n",
    "        if ix == 0:\n",
    "            break\n",
    "\n",
    "    print(''.join(itos[i] for i in out)) # decode and print the generated word"
   ]
  },
  {
   "cell_type": "code",
   "execution_count": null,
   "id": "bf4ee6f5-75f0-4e70-9c49-ab410b7ce509",
   "metadata": {},
   "outputs": [],
   "source": []
  },
  {
   "cell_type": "code",
   "execution_count": 129,
   "id": "b3cb97c1-d683-4976-8773-914e174c26a3",
   "metadata": {},
   "outputs": [
    {
     "data": {
      "text/plain": [
       "tensor([[[[-2.4809e-01, -1.0346e+00, -1.5913e+00],\n",
       "          [-1.0980e+00,  9.5245e-01, -2.8218e-01],\n",
       "          [-2.9926e-02, -1.2037e-01, -2.8961e-01]],\n",
       "\n",
       "         [[ 4.7051e-02, -7.4587e-01, -1.2899e+00],\n",
       "          [ 7.0666e-01, -5.3342e-01,  8.0151e-01],\n",
       "          [ 6.7092e-01, -2.3330e-01, -7.2014e-01]],\n",
       "\n",
       "         [[ 1.8801e+00, -1.7427e+00, -5.2389e-01],\n",
       "          [-8.6184e-01, -4.9184e-01,  2.6504e-01],\n",
       "          [-1.6664e+00,  2.8618e-01, -1.3475e-01]]],\n",
       "\n",
       "\n",
       "        [[[ 5.0617e-01, -1.1608e+00,  8.9839e-02],\n",
       "          [-5.4900e-02,  1.1302e+00, -1.8118e+00],\n",
       "          [ 1.4833e+00,  4.0350e-01,  1.7933e-01]],\n",
       "\n",
       "         [[ 2.1271e-01, -1.5149e+00, -9.4919e-01],\n",
       "          [ 2.8658e-01, -4.4932e-02,  1.5187e+00],\n",
       "          [-4.7133e-01,  4.3978e-01, -7.9969e-01]],\n",
       "\n",
       "         [[ 9.4450e-01,  6.0259e-01, -1.2550e+00],\n",
       "          [-1.0209e+00,  3.4566e-01, -9.8983e-01],\n",
       "          [-5.6235e-01,  1.0105e+00,  7.9711e-01]]],\n",
       "\n",
       "\n",
       "        [[[-6.5405e-01, -2.7754e-01,  7.1123e-01],\n",
       "          [ 6.9172e-01,  1.2305e+00, -1.1951e+00],\n",
       "          [ 2.1005e+00, -1.0524e-01,  6.7063e-02]],\n",
       "\n",
       "         [[-5.5245e-01,  4.6836e-01,  6.2984e-01],\n",
       "          [ 1.6875e-01,  1.2929e-02,  1.6274e-02],\n",
       "          [-6.8863e-01, -1.7015e+00,  1.5072e+00]],\n",
       "\n",
       "         [[-1.7618e+00, -1.2907e+00,  2.1022e+00],\n",
       "          [-1.3169e+00,  4.0888e-01,  1.0391e+00],\n",
       "          [ 7.5305e-01,  4.9971e-01,  2.1278e-01]]],\n",
       "\n",
       "\n",
       "        [[[-8.9276e-01, -3.9623e-01, -7.0378e-01],\n",
       "          [ 2.0758e-01,  6.2952e-01,  9.6108e-01],\n",
       "          [ 8.5741e-01,  1.0136e+00, -7.3172e-01]],\n",
       "\n",
       "         [[ 1.1114e+00, -1.1018e+00,  9.9619e-02],\n",
       "          [-5.4160e-01,  7.9447e-01,  1.9454e-01],\n",
       "          [-9.2342e-01,  9.6464e-01,  1.0167e-01]],\n",
       "\n",
       "         [[ 1.3366e+00,  7.8834e-01, -3.9747e-01],\n",
       "          [ 1.0375e-03, -1.8780e+00,  5.9683e-01],\n",
       "          [-1.0291e+00, -1.3935e+00, -6.6018e-01]]]])"
      ]
     },
     "execution_count": 129,
     "metadata": {},
     "output_type": "execute_result"
    }
   ],
   "source": [
    "torch.randn((4,3,*(3,3)))"
   ]
  },
  {
   "cell_type": "code",
   "execution_count": null,
   "id": "acea14f2-1ca1-4044-bcbc-51be78b196dc",
   "metadata": {},
   "outputs": [],
   "source": []
  }
 ],
 "metadata": {
  "kernelspec": {
   "display_name": "Python 3 (ipykernel)",
   "language": "python",
   "name": "python3"
  },
  "language_info": {
   "codemirror_mode": {
    "name": "ipython",
    "version": 3
   },
   "file_extension": ".py",
   "mimetype": "text/x-python",
   "name": "python",
   "nbconvert_exporter": "python",
   "pygments_lexer": "ipython3",
   "version": "3.11.7"
  }
 },
 "nbformat": 4,
 "nbformat_minor": 5
}
